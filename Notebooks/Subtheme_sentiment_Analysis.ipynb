{
  "cells": [
    {
      "cell_type": "markdown",
      "metadata": {
        "id": "VrD3DYJ_1MkY"
      },
      "source": [
        "# **Load Library**"
      ]
    },
    {
      "cell_type": "code",
      "execution_count": 43,
      "metadata": {
        "id": "XLmXuzP91KA_"
      },
      "outputs": [],
      "source": [
        "import numpy as np\n",
        "import pandas as pd"
      ]
    },
    {
      "cell_type": "code",
      "execution_count": 44,
      "metadata": {
        "colab": {
          "base_uri": "https://localhost:8080/"
        },
        "id": "6zlglZt0sarp",
        "outputId": "30ba30a5-4904-4a03-89c8-966e83c1ba65"
      },
      "outputs": [
        {
          "name": "stdout",
          "output_type": "stream",
          "text": [
            "Drive already mounted at /content/drive; to attempt to forcibly remount, call drive.mount(\"/content/drive\", force_remount=True).\n"
          ]
        }
      ],
      "source": [
        "\n",
        "from google.colab import drive\n",
        "drive.mount('/content/drive')"
      ]
    },
    {
      "cell_type": "code",
      "execution_count": 45,
      "metadata": {
        "id": "H9WFGPbts2uB"
      },
      "outputs": [],
      "source": [
        "data_file = '/content/drive/MyDrive/Edge/Evaluation-dataset (1).csv'\n",
        "df = pd.read_csv(data_file)"
      ]
    },
    {
      "cell_type": "code",
      "execution_count": 46,
      "metadata": {
        "colab": {
          "base_uri": "https://localhost:8080/",
          "height": 885
        },
        "id": "VeDBaysL3ax1",
        "outputId": "6bd076ba-e3ba-4531-8b4f-068fa8796254"
      },
      "outputs": [
        {
          "data": {
            "application/vnd.google.colaboratory.intrinsic+json": {
              "summary": "{\n  \"name\": \"df\",\n  \"rows\": 10131,\n  \"fields\": [\n    {\n      \"column\": \"Tires where delivered to the garage of my choice,the garage notified me when they had been delivered. A day and time was arranged with the garage and I went and had them fitted,a Hassel free experience.\",\n      \"properties\": {\n        \"dtype\": \"string\",\n        \"samples\": [\n          \"Prices competitive and vast range of garage locations, to make the fitting easy.\",\n          \"Good prices. Customer services contacted me straight away to say the tyres I ordered may not be suitable due to the type of car I drive and sled me to respond immediately which I did. I didn\\u2019t get a response for 2 days. In the meantime I got in touch via phone and discussed what tyres would be suitable, it was found that the tyre you recommended for me would not be suitable for the vehicle and ended up fitting the tyres I originally ordered. This is my first experience of using [REDACTED] customer service and felt the situation was dealt with quite badly and I wasn\\u2019t very impressed. I would consider paying a bit more next time I purchase tyres to deal with a person face to face rather than have this situation again.\",\n          \"Very easy saving me as a pensioner a lot of money\"\n        ],\n        \"num_unique_values\": 10127,\n        \"semantic_type\": \"\",\n        \"description\": \"\"\n      }\n    },\n    {\n      \"column\": \"garage service positive\",\n      \"properties\": {\n        \"dtype\": \"category\",\n        \"samples\": [\n          \"tyre age/dot code negative\",\n          \"garage service positive\",\n          \"tyre agedot code negative\"\n        ],\n        \"num_unique_values\": 84,\n        \"semantic_type\": \"\",\n        \"description\": \"\"\n      }\n    },\n    {\n      \"column\": \"ease of booking positive\",\n      \"properties\": {\n        \"dtype\": \"category\",\n        \"samples\": [\n          \"failed payment negative\",\n          \" it feels more transparent than buying from a mechanic based on their opinion.\",\n          \"value for money positive\"\n        ],\n        \"num_unique_values\": 65,\n        \"semantic_type\": \"\",\n        \"description\": \"\"\n      }\n    },\n    {\n      \"column\": \"Unnamed: 3\",\n      \"properties\": {\n        \"dtype\": \"category\",\n        \"samples\": [\n          \"damage negative\",\n          \" polite staff\",\n          \"facilities positive\"\n        ],\n        \"num_unique_values\": 52,\n        \"semantic_type\": \"\",\n        \"description\": \"\"\n      }\n    },\n    {\n      \"column\": \"Unnamed: 4\",\n      \"properties\": {\n        \"dtype\": \"category\",\n        \"samples\": [\n          \"damage negative\",\n          \"failed payment negative\",\n          \"late notice negative\"\n        ],\n        \"num_unique_values\": 50,\n        \"semantic_type\": \"\",\n        \"description\": \"\"\n      }\n    },\n    {\n      \"column\": \"Unnamed: 5\",\n      \"properties\": {\n        \"dtype\": \"category\",\n        \"samples\": [\n          \"value for money negative\",\n          \"discounts positive\",\n          \"wait time positive\"\n        ],\n        \"num_unique_values\": 37,\n        \"semantic_type\": \"\",\n        \"description\": \"\"\n      }\n    },\n    {\n      \"column\": \"Unnamed: 6\",\n      \"properties\": {\n        \"dtype\": \"category\",\n        \"samples\": [\n          \"garage service positive\",\n          \"damage negative\",\n          \"change of date negative\"\n        ],\n        \"num_unique_values\": 20,\n        \"semantic_type\": \"\",\n        \"description\": \"\"\n      }\n    },\n    {\n      \"column\": \"Unnamed: 7\",\n      \"properties\": {\n        \"dtype\": \"category\",\n        \"samples\": [\n          \"extra charges positive\",\n          \"failed payment positive\",\n          \"value for money positive\"\n        ],\n        \"num_unique_values\": 9,\n        \"semantic_type\": \"\",\n        \"description\": \"\"\n      }\n    },\n    {\n      \"column\": \"Unnamed: 8\",\n      \"properties\": {\n        \"dtype\": \"category\",\n        \"samples\": [\n          \"wait time negative\",\n          \"late notice positive\",\n          \"delivery punctuality negative\"\n        ],\n        \"num_unique_values\": 6,\n        \"semantic_type\": \"\",\n        \"description\": \"\"\n      }\n    },\n    {\n      \"column\": \"Unnamed: 9\",\n      \"properties\": {\n        \"dtype\": \"category\",\n        \"samples\": [\n          \"facilities positive\",\n          \"garage service positive\"\n        ],\n        \"num_unique_values\": 2,\n        \"semantic_type\": \"\",\n        \"description\": \"\"\n      }\n    },\n    {\n      \"column\": \"Unnamed: 10\",\n      \"properties\": {\n        \"dtype\": \"category\",\n        \"samples\": [\n          \"incorrect tyres sent positive\"\n        ],\n        \"num_unique_values\": 1,\n        \"semantic_type\": \"\",\n        \"description\": \"\"\n      }\n    },\n    {\n      \"column\": \"Unnamed: 11\",\n      \"properties\": {\n        \"dtype\": \"category\",\n        \"samples\": [\n          \"call wait time positive\"\n        ],\n        \"num_unique_values\": 1,\n        \"semantic_type\": \"\",\n        \"description\": \"\"\n      }\n    },\n    {\n      \"column\": \"Unnamed: 12\",\n      \"properties\": {\n        \"dtype\": \"category\",\n        \"samples\": [\n          \"refund positive\"\n        ],\n        \"num_unique_values\": 1,\n        \"semantic_type\": \"\",\n        \"description\": \"\"\n      }\n    },\n    {\n      \"column\": \"Unnamed: 13\",\n      \"properties\": {\n        \"dtype\": \"category\",\n        \"samples\": [\n          \"no stock positive\"\n        ],\n        \"num_unique_values\": 1,\n        \"semantic_type\": \"\",\n        \"description\": \"\"\n      }\n    },\n    {\n      \"column\": \"Unnamed: 14\",\n      \"properties\": {\n        \"dtype\": \"category\",\n        \"samples\": [\n          \"balancing positive\"\n        ],\n        \"num_unique_values\": 1,\n        \"semantic_type\": \"\",\n        \"description\": \"\"\n      }\n    }\n  ]\n}",
              "type": "dataframe",
              "variable_name": "df"
            },
            "text/html": [
              "\n",
              "  <div id=\"df-2ace6f61-c4c8-4c39-8aaa-a34ad86ef242\" class=\"colab-df-container\">\n",
              "    <div>\n",
              "<style scoped>\n",
              "    .dataframe tbody tr th:only-of-type {\n",
              "        vertical-align: middle;\n",
              "    }\n",
              "\n",
              "    .dataframe tbody tr th {\n",
              "        vertical-align: top;\n",
              "    }\n",
              "\n",
              "    .dataframe thead th {\n",
              "        text-align: right;\n",
              "    }\n",
              "</style>\n",
              "<table border=\"1\" class=\"dataframe\">\n",
              "  <thead>\n",
              "    <tr style=\"text-align: right;\">\n",
              "      <th></th>\n",
              "      <th>Tires where delivered to the garage of my choice,the garage notified me when they had been delivered. A day and time was arranged with the garage and I went and had them fitted,a Hassel free experience.</th>\n",
              "      <th>garage service positive</th>\n",
              "      <th>ease of booking positive</th>\n",
              "      <th>Unnamed: 3</th>\n",
              "      <th>Unnamed: 4</th>\n",
              "      <th>Unnamed: 5</th>\n",
              "      <th>Unnamed: 6</th>\n",
              "      <th>Unnamed: 7</th>\n",
              "      <th>Unnamed: 8</th>\n",
              "      <th>Unnamed: 9</th>\n",
              "      <th>Unnamed: 10</th>\n",
              "      <th>Unnamed: 11</th>\n",
              "      <th>Unnamed: 12</th>\n",
              "      <th>Unnamed: 13</th>\n",
              "      <th>Unnamed: 14</th>\n",
              "    </tr>\n",
              "  </thead>\n",
              "  <tbody>\n",
              "    <tr>\n",
              "      <th>0</th>\n",
              "      <td>Easy Tyre Selection Process, Competitive Prici...</td>\n",
              "      <td>garage service positive</td>\n",
              "      <td>value for money positive</td>\n",
              "      <td>NaN</td>\n",
              "      <td>NaN</td>\n",
              "      <td>NaN</td>\n",
              "      <td>NaN</td>\n",
              "      <td>NaN</td>\n",
              "      <td>NaN</td>\n",
              "      <td>NaN</td>\n",
              "      <td>NaN</td>\n",
              "      <td>NaN</td>\n",
              "      <td>NaN</td>\n",
              "      <td>NaN</td>\n",
              "      <td>NaN</td>\n",
              "    </tr>\n",
              "    <tr>\n",
              "      <th>1</th>\n",
              "      <td>Very easy to use and good value for money.</td>\n",
              "      <td>value for money positive</td>\n",
              "      <td>NaN</td>\n",
              "      <td>NaN</td>\n",
              "      <td>NaN</td>\n",
              "      <td>NaN</td>\n",
              "      <td>NaN</td>\n",
              "      <td>NaN</td>\n",
              "      <td>NaN</td>\n",
              "      <td>NaN</td>\n",
              "      <td>NaN</td>\n",
              "      <td>NaN</td>\n",
              "      <td>NaN</td>\n",
              "      <td>NaN</td>\n",
              "      <td>NaN</td>\n",
              "    </tr>\n",
              "    <tr>\n",
              "      <th>2</th>\n",
              "      <td>Really easy and convenient to arrange</td>\n",
              "      <td>ease of booking positive</td>\n",
              "      <td>NaN</td>\n",
              "      <td>NaN</td>\n",
              "      <td>NaN</td>\n",
              "      <td>NaN</td>\n",
              "      <td>NaN</td>\n",
              "      <td>NaN</td>\n",
              "      <td>NaN</td>\n",
              "      <td>NaN</td>\n",
              "      <td>NaN</td>\n",
              "      <td>NaN</td>\n",
              "      <td>NaN</td>\n",
              "      <td>NaN</td>\n",
              "      <td>NaN</td>\n",
              "    </tr>\n",
              "    <tr>\n",
              "      <th>3</th>\n",
              "      <td>It was so easy to select tyre sizes and arrang...</td>\n",
              "      <td>location positive</td>\n",
              "      <td>value for money positive</td>\n",
              "      <td>ease of booking positive</td>\n",
              "      <td>NaN</td>\n",
              "      <td>NaN</td>\n",
              "      <td>NaN</td>\n",
              "      <td>NaN</td>\n",
              "      <td>NaN</td>\n",
              "      <td>NaN</td>\n",
              "      <td>NaN</td>\n",
              "      <td>NaN</td>\n",
              "      <td>NaN</td>\n",
              "      <td>NaN</td>\n",
              "      <td>NaN</td>\n",
              "    </tr>\n",
              "    <tr>\n",
              "      <th>4</th>\n",
              "      <td>service was excellent. Only slight downside wa...</td>\n",
              "      <td>length of fitting positive</td>\n",
              "      <td>ease of booking positive</td>\n",
              "      <td>ease of booking negative</td>\n",
              "      <td>NaN</td>\n",
              "      <td>NaN</td>\n",
              "      <td>NaN</td>\n",
              "      <td>NaN</td>\n",
              "      <td>NaN</td>\n",
              "      <td>NaN</td>\n",
              "      <td>NaN</td>\n",
              "      <td>NaN</td>\n",
              "      <td>NaN</td>\n",
              "      <td>NaN</td>\n",
              "      <td>NaN</td>\n",
              "    </tr>\n",
              "  </tbody>\n",
              "</table>\n",
              "</div>\n",
              "    <div class=\"colab-df-buttons\">\n",
              "\n",
              "  <div class=\"colab-df-container\">\n",
              "    <button class=\"colab-df-convert\" onclick=\"convertToInteractive('df-2ace6f61-c4c8-4c39-8aaa-a34ad86ef242')\"\n",
              "            title=\"Convert this dataframe to an interactive table.\"\n",
              "            style=\"display:none;\">\n",
              "\n",
              "  <svg xmlns=\"http://www.w3.org/2000/svg\" height=\"24px\" viewBox=\"0 -960 960 960\">\n",
              "    <path d=\"M120-120v-720h720v720H120Zm60-500h600v-160H180v160Zm220 220h160v-160H400v160Zm0 220h160v-160H400v160ZM180-400h160v-160H180v160Zm440 0h160v-160H620v160ZM180-180h160v-160H180v160Zm440 0h160v-160H620v160Z\"/>\n",
              "  </svg>\n",
              "    </button>\n",
              "\n",
              "  <style>\n",
              "    .colab-df-container {\n",
              "      display:flex;\n",
              "      gap: 12px;\n",
              "    }\n",
              "\n",
              "    .colab-df-convert {\n",
              "      background-color: #E8F0FE;\n",
              "      border: none;\n",
              "      border-radius: 50%;\n",
              "      cursor: pointer;\n",
              "      display: none;\n",
              "      fill: #1967D2;\n",
              "      height: 32px;\n",
              "      padding: 0 0 0 0;\n",
              "      width: 32px;\n",
              "    }\n",
              "\n",
              "    .colab-df-convert:hover {\n",
              "      background-color: #E2EBFA;\n",
              "      box-shadow: 0px 1px 2px rgba(60, 64, 67, 0.3), 0px 1px 3px 1px rgba(60, 64, 67, 0.15);\n",
              "      fill: #174EA6;\n",
              "    }\n",
              "\n",
              "    .colab-df-buttons div {\n",
              "      margin-bottom: 4px;\n",
              "    }\n",
              "\n",
              "    [theme=dark] .colab-df-convert {\n",
              "      background-color: #3B4455;\n",
              "      fill: #D2E3FC;\n",
              "    }\n",
              "\n",
              "    [theme=dark] .colab-df-convert:hover {\n",
              "      background-color: #434B5C;\n",
              "      box-shadow: 0px 1px 3px 1px rgba(0, 0, 0, 0.15);\n",
              "      filter: drop-shadow(0px 1px 2px rgba(0, 0, 0, 0.3));\n",
              "      fill: #FFFFFF;\n",
              "    }\n",
              "  </style>\n",
              "\n",
              "    <script>\n",
              "      const buttonEl =\n",
              "        document.querySelector('#df-2ace6f61-c4c8-4c39-8aaa-a34ad86ef242 button.colab-df-convert');\n",
              "      buttonEl.style.display =\n",
              "        google.colab.kernel.accessAllowed ? 'block' : 'none';\n",
              "\n",
              "      async function convertToInteractive(key) {\n",
              "        const element = document.querySelector('#df-2ace6f61-c4c8-4c39-8aaa-a34ad86ef242');\n",
              "        const dataTable =\n",
              "          await google.colab.kernel.invokeFunction('convertToInteractive',\n",
              "                                                    [key], {});\n",
              "        if (!dataTable) return;\n",
              "\n",
              "        const docLinkHtml = 'Like what you see? Visit the ' +\n",
              "          '<a target=\"_blank\" href=https://colab.research.google.com/notebooks/data_table.ipynb>data table notebook</a>'\n",
              "          + ' to learn more about interactive tables.';\n",
              "        element.innerHTML = '';\n",
              "        dataTable['output_type'] = 'display_data';\n",
              "        await google.colab.output.renderOutput(dataTable, element);\n",
              "        const docLink = document.createElement('div');\n",
              "        docLink.innerHTML = docLinkHtml;\n",
              "        element.appendChild(docLink);\n",
              "      }\n",
              "    </script>\n",
              "  </div>\n",
              "\n",
              "\n",
              "<div id=\"df-136810fc-2a31-49fd-90f8-ad2dac745b25\">\n",
              "  <button class=\"colab-df-quickchart\" onclick=\"quickchart('df-136810fc-2a31-49fd-90f8-ad2dac745b25')\"\n",
              "            title=\"Suggest charts\"\n",
              "            style=\"display:none;\">\n",
              "\n",
              "<svg xmlns=\"http://www.w3.org/2000/svg\" height=\"24px\"viewBox=\"0 0 24 24\"\n",
              "     width=\"24px\">\n",
              "    <g>\n",
              "        <path d=\"M19 3H5c-1.1 0-2 .9-2 2v14c0 1.1.9 2 2 2h14c1.1 0 2-.9 2-2V5c0-1.1-.9-2-2-2zM9 17H7v-7h2v7zm4 0h-2V7h2v10zm4 0h-2v-4h2v4z\"/>\n",
              "    </g>\n",
              "</svg>\n",
              "  </button>\n",
              "\n",
              "<style>\n",
              "  .colab-df-quickchart {\n",
              "      --bg-color: #E8F0FE;\n",
              "      --fill-color: #1967D2;\n",
              "      --hover-bg-color: #E2EBFA;\n",
              "      --hover-fill-color: #174EA6;\n",
              "      --disabled-fill-color: #AAA;\n",
              "      --disabled-bg-color: #DDD;\n",
              "  }\n",
              "\n",
              "  [theme=dark] .colab-df-quickchart {\n",
              "      --bg-color: #3B4455;\n",
              "      --fill-color: #D2E3FC;\n",
              "      --hover-bg-color: #434B5C;\n",
              "      --hover-fill-color: #FFFFFF;\n",
              "      --disabled-bg-color: #3B4455;\n",
              "      --disabled-fill-color: #666;\n",
              "  }\n",
              "\n",
              "  .colab-df-quickchart {\n",
              "    background-color: var(--bg-color);\n",
              "    border: none;\n",
              "    border-radius: 50%;\n",
              "    cursor: pointer;\n",
              "    display: none;\n",
              "    fill: var(--fill-color);\n",
              "    height: 32px;\n",
              "    padding: 0;\n",
              "    width: 32px;\n",
              "  }\n",
              "\n",
              "  .colab-df-quickchart:hover {\n",
              "    background-color: var(--hover-bg-color);\n",
              "    box-shadow: 0 1px 2px rgba(60, 64, 67, 0.3), 0 1px 3px 1px rgba(60, 64, 67, 0.15);\n",
              "    fill: var(--button-hover-fill-color);\n",
              "  }\n",
              "\n",
              "  .colab-df-quickchart-complete:disabled,\n",
              "  .colab-df-quickchart-complete:disabled:hover {\n",
              "    background-color: var(--disabled-bg-color);\n",
              "    fill: var(--disabled-fill-color);\n",
              "    box-shadow: none;\n",
              "  }\n",
              "\n",
              "  .colab-df-spinner {\n",
              "    border: 2px solid var(--fill-color);\n",
              "    border-color: transparent;\n",
              "    border-bottom-color: var(--fill-color);\n",
              "    animation:\n",
              "      spin 1s steps(1) infinite;\n",
              "  }\n",
              "\n",
              "  @keyframes spin {\n",
              "    0% {\n",
              "      border-color: transparent;\n",
              "      border-bottom-color: var(--fill-color);\n",
              "      border-left-color: var(--fill-color);\n",
              "    }\n",
              "    20% {\n",
              "      border-color: transparent;\n",
              "      border-left-color: var(--fill-color);\n",
              "      border-top-color: var(--fill-color);\n",
              "    }\n",
              "    30% {\n",
              "      border-color: transparent;\n",
              "      border-left-color: var(--fill-color);\n",
              "      border-top-color: var(--fill-color);\n",
              "      border-right-color: var(--fill-color);\n",
              "    }\n",
              "    40% {\n",
              "      border-color: transparent;\n",
              "      border-right-color: var(--fill-color);\n",
              "      border-top-color: var(--fill-color);\n",
              "    }\n",
              "    60% {\n",
              "      border-color: transparent;\n",
              "      border-right-color: var(--fill-color);\n",
              "    }\n",
              "    80% {\n",
              "      border-color: transparent;\n",
              "      border-right-color: var(--fill-color);\n",
              "      border-bottom-color: var(--fill-color);\n",
              "    }\n",
              "    90% {\n",
              "      border-color: transparent;\n",
              "      border-bottom-color: var(--fill-color);\n",
              "    }\n",
              "  }\n",
              "</style>\n",
              "\n",
              "  <script>\n",
              "    async function quickchart(key) {\n",
              "      const quickchartButtonEl =\n",
              "        document.querySelector('#' + key + ' button');\n",
              "      quickchartButtonEl.disabled = true;  // To prevent multiple clicks.\n",
              "      quickchartButtonEl.classList.add('colab-df-spinner');\n",
              "      try {\n",
              "        const charts = await google.colab.kernel.invokeFunction(\n",
              "            'suggestCharts', [key], {});\n",
              "      } catch (error) {\n",
              "        console.error('Error during call to suggestCharts:', error);\n",
              "      }\n",
              "      quickchartButtonEl.classList.remove('colab-df-spinner');\n",
              "      quickchartButtonEl.classList.add('colab-df-quickchart-complete');\n",
              "    }\n",
              "    (() => {\n",
              "      let quickchartButtonEl =\n",
              "        document.querySelector('#df-136810fc-2a31-49fd-90f8-ad2dac745b25 button');\n",
              "      quickchartButtonEl.style.display =\n",
              "        google.colab.kernel.accessAllowed ? 'block' : 'none';\n",
              "    })();\n",
              "  </script>\n",
              "</div>\n",
              "\n",
              "    </div>\n",
              "  </div>\n"
            ],
            "text/plain": [
              "  Tires where delivered to the garage of my choice,the garage notified me when they had been delivered. A day and time was arranged with the garage and I went and had them fitted,a Hassel free experience.  \\\n",
              "0  Easy Tyre Selection Process, Competitive Prici...                                                                                                                                                           \n",
              "1         Very easy to use and good value for money.                                                                                                                                                           \n",
              "2              Really easy and convenient to arrange                                                                                                                                                           \n",
              "3  It was so easy to select tyre sizes and arrang...                                                                                                                                                           \n",
              "4  service was excellent. Only slight downside wa...                                                                                                                                                           \n",
              "\n",
              "      garage service positive  ease of booking positive  \\\n",
              "0     garage service positive  value for money positive   \n",
              "1    value for money positive                       NaN   \n",
              "2    ease of booking positive                       NaN   \n",
              "3           location positive  value for money positive   \n",
              "4  length of fitting positive  ease of booking positive   \n",
              "\n",
              "                 Unnamed: 3 Unnamed: 4 Unnamed: 5 Unnamed: 6 Unnamed: 7  \\\n",
              "0                       NaN        NaN        NaN        NaN        NaN   \n",
              "1                       NaN        NaN        NaN        NaN        NaN   \n",
              "2                       NaN        NaN        NaN        NaN        NaN   \n",
              "3  ease of booking positive        NaN        NaN        NaN        NaN   \n",
              "4  ease of booking negative        NaN        NaN        NaN        NaN   \n",
              "\n",
              "  Unnamed: 8 Unnamed: 9 Unnamed: 10 Unnamed: 11 Unnamed: 12 Unnamed: 13  \\\n",
              "0        NaN        NaN         NaN         NaN         NaN         NaN   \n",
              "1        NaN        NaN         NaN         NaN         NaN         NaN   \n",
              "2        NaN        NaN         NaN         NaN         NaN         NaN   \n",
              "3        NaN        NaN         NaN         NaN         NaN         NaN   \n",
              "4        NaN        NaN         NaN         NaN         NaN         NaN   \n",
              "\n",
              "  Unnamed: 14  \n",
              "0         NaN  \n",
              "1         NaN  \n",
              "2         NaN  \n",
              "3         NaN  \n",
              "4         NaN  "
            ]
          },
          "execution_count": 46,
          "metadata": {},
          "output_type": "execute_result"
        }
      ],
      "source": [
        "df.head()"
      ]
    },
    {
      "cell_type": "markdown",
      "metadata": {
        "id": "NVoXSh0o1hX4"
      },
      "source": [
        "# **Analyze Data**\n",
        "\n",
        "1.   i found there are 3 col of subtheme\n",
        "2.   make a df\n",
        "\n"
      ]
    },
    {
      "cell_type": "code",
      "execution_count": 47,
      "metadata": {
        "colab": {
          "base_uri": "https://localhost:8080/",
          "height": 423
        },
        "id": "cMTT04Vj3wlT",
        "outputId": "0cb1b317-2d4b-485c-eaf6-2c2243c80b2c"
      },
      "outputs": [
        {
          "data": {
            "application/vnd.google.colaboratory.intrinsic+json": {
              "summary": "{\n  \"name\": \"df\",\n  \"rows\": 10131,\n  \"fields\": [\n    {\n      \"column\": \"Text\",\n      \"properties\": {\n        \"dtype\": \"string\",\n        \"samples\": [\n          \"Prices competitive and vast range of garage locations, to make the fitting easy.\",\n          \"Good prices. Customer services contacted me straight away to say the tyres I ordered may not be suitable due to the type of car I drive and sled me to respond immediately which I did. I didn\\u2019t get a response for 2 days. In the meantime I got in touch via phone and discussed what tyres would be suitable, it was found that the tyre you recommended for me would not be suitable for the vehicle and ended up fitting the tyres I originally ordered. This is my first experience of using [REDACTED] customer service and felt the situation was dealt with quite badly and I wasn\\u2019t very impressed. I would consider paying a bit more next time I purchase tyres to deal with a person face to face rather than have this situation again.\",\n          \"Very easy saving me as a pensioner a lot of money\"\n        ],\n        \"num_unique_values\": 10127,\n        \"semantic_type\": \"\",\n        \"description\": \"\"\n      }\n    },\n    {\n      \"column\": \"subtheme1\",\n      \"properties\": {\n        \"dtype\": \"category\",\n        \"samples\": [\n          \"tyre age/dot code negative\",\n          \"garage service positive\",\n          \"tyre agedot code negative\"\n        ],\n        \"num_unique_values\": 84,\n        \"semantic_type\": \"\",\n        \"description\": \"\"\n      }\n    },\n    {\n      \"column\": \"subtheme2\",\n      \"properties\": {\n        \"dtype\": \"category\",\n        \"samples\": [\n          \"failed payment negative\",\n          \" it feels more transparent than buying from a mechanic based on their opinion.\",\n          \"value for money positive\"\n        ],\n        \"num_unique_values\": 65,\n        \"semantic_type\": \"\",\n        \"description\": \"\"\n      }\n    },\n    {\n      \"column\": \"subtheme3\",\n      \"properties\": {\n        \"dtype\": \"category\",\n        \"samples\": [\n          \"damage negative\",\n          \" polite staff\",\n          \"facilities positive\"\n        ],\n        \"num_unique_values\": 52,\n        \"semantic_type\": \"\",\n        \"description\": \"\"\n      }\n    }\n  ]\n}",
              "type": "dataframe",
              "variable_name": "df"
            },
            "text/html": [
              "\n",
              "  <div id=\"df-5d76b4aa-4a9b-4797-9160-f537522b6f12\" class=\"colab-df-container\">\n",
              "    <div>\n",
              "<style scoped>\n",
              "    .dataframe tbody tr th:only-of-type {\n",
              "        vertical-align: middle;\n",
              "    }\n",
              "\n",
              "    .dataframe tbody tr th {\n",
              "        vertical-align: top;\n",
              "    }\n",
              "\n",
              "    .dataframe thead th {\n",
              "        text-align: right;\n",
              "    }\n",
              "</style>\n",
              "<table border=\"1\" class=\"dataframe\">\n",
              "  <thead>\n",
              "    <tr style=\"text-align: right;\">\n",
              "      <th></th>\n",
              "      <th>Text</th>\n",
              "      <th>subtheme1</th>\n",
              "      <th>subtheme2</th>\n",
              "      <th>subtheme3</th>\n",
              "    </tr>\n",
              "  </thead>\n",
              "  <tbody>\n",
              "    <tr>\n",
              "      <th>0</th>\n",
              "      <td>Easy Tyre Selection Process, Competitive Prici...</td>\n",
              "      <td>garage service positive</td>\n",
              "      <td>value for money positive</td>\n",
              "      <td>NaN</td>\n",
              "    </tr>\n",
              "    <tr>\n",
              "      <th>1</th>\n",
              "      <td>Very easy to use and good value for money.</td>\n",
              "      <td>value for money positive</td>\n",
              "      <td>NaN</td>\n",
              "      <td>NaN</td>\n",
              "    </tr>\n",
              "    <tr>\n",
              "      <th>2</th>\n",
              "      <td>Really easy and convenient to arrange</td>\n",
              "      <td>ease of booking positive</td>\n",
              "      <td>NaN</td>\n",
              "      <td>NaN</td>\n",
              "    </tr>\n",
              "    <tr>\n",
              "      <th>3</th>\n",
              "      <td>It was so easy to select tyre sizes and arrang...</td>\n",
              "      <td>location positive</td>\n",
              "      <td>value for money positive</td>\n",
              "      <td>ease of booking positive</td>\n",
              "    </tr>\n",
              "    <tr>\n",
              "      <th>4</th>\n",
              "      <td>service was excellent. Only slight downside wa...</td>\n",
              "      <td>length of fitting positive</td>\n",
              "      <td>ease of booking positive</td>\n",
              "      <td>ease of booking negative</td>\n",
              "    </tr>\n",
              "    <tr>\n",
              "      <th>...</th>\n",
              "      <td>...</td>\n",
              "      <td>...</td>\n",
              "      <td>...</td>\n",
              "      <td>...</td>\n",
              "    </tr>\n",
              "    <tr>\n",
              "      <th>10126</th>\n",
              "      <td>I ordered the wrong tyres, however [REDACTED] ...</td>\n",
              "      <td>refund positive</td>\n",
              "      <td>delivery punctuality positive</td>\n",
              "      <td>refund timescale positive</td>\n",
              "    </tr>\n",
              "    <tr>\n",
              "      <th>10127</th>\n",
              "      <td>Good experience, first time I have used [REDAC...</td>\n",
              "      <td>length of fitting positive</td>\n",
              "      <td>NaN</td>\n",
              "      <td>NaN</td>\n",
              "    </tr>\n",
              "    <tr>\n",
              "      <th>10128</th>\n",
              "      <td>I ordered the tyre I needed on line, booked a ...</td>\n",
              "      <td>location positive</td>\n",
              "      <td>delivery punctuality positive</td>\n",
              "      <td>length of fitting positive</td>\n",
              "    </tr>\n",
              "    <tr>\n",
              "      <th>10129</th>\n",
              "      <td>Excellent service from point of order to fitti...</td>\n",
              "      <td>NaN</td>\n",
              "      <td>NaN</td>\n",
              "      <td>NaN</td>\n",
              "    </tr>\n",
              "    <tr>\n",
              "      <th>10130</th>\n",
              "      <td>Seamless, well managed at both ends. I would r...</td>\n",
              "      <td>NaN</td>\n",
              "      <td>NaN</td>\n",
              "      <td>NaN</td>\n",
              "    </tr>\n",
              "  </tbody>\n",
              "</table>\n",
              "<p>10131 rows × 4 columns</p>\n",
              "</div>\n",
              "    <div class=\"colab-df-buttons\">\n",
              "\n",
              "  <div class=\"colab-df-container\">\n",
              "    <button class=\"colab-df-convert\" onclick=\"convertToInteractive('df-5d76b4aa-4a9b-4797-9160-f537522b6f12')\"\n",
              "            title=\"Convert this dataframe to an interactive table.\"\n",
              "            style=\"display:none;\">\n",
              "\n",
              "  <svg xmlns=\"http://www.w3.org/2000/svg\" height=\"24px\" viewBox=\"0 -960 960 960\">\n",
              "    <path d=\"M120-120v-720h720v720H120Zm60-500h600v-160H180v160Zm220 220h160v-160H400v160Zm0 220h160v-160H400v160ZM180-400h160v-160H180v160Zm440 0h160v-160H620v160ZM180-180h160v-160H180v160Zm440 0h160v-160H620v160Z\"/>\n",
              "  </svg>\n",
              "    </button>\n",
              "\n",
              "  <style>\n",
              "    .colab-df-container {\n",
              "      display:flex;\n",
              "      gap: 12px;\n",
              "    }\n",
              "\n",
              "    .colab-df-convert {\n",
              "      background-color: #E8F0FE;\n",
              "      border: none;\n",
              "      border-radius: 50%;\n",
              "      cursor: pointer;\n",
              "      display: none;\n",
              "      fill: #1967D2;\n",
              "      height: 32px;\n",
              "      padding: 0 0 0 0;\n",
              "      width: 32px;\n",
              "    }\n",
              "\n",
              "    .colab-df-convert:hover {\n",
              "      background-color: #E2EBFA;\n",
              "      box-shadow: 0px 1px 2px rgba(60, 64, 67, 0.3), 0px 1px 3px 1px rgba(60, 64, 67, 0.15);\n",
              "      fill: #174EA6;\n",
              "    }\n",
              "\n",
              "    .colab-df-buttons div {\n",
              "      margin-bottom: 4px;\n",
              "    }\n",
              "\n",
              "    [theme=dark] .colab-df-convert {\n",
              "      background-color: #3B4455;\n",
              "      fill: #D2E3FC;\n",
              "    }\n",
              "\n",
              "    [theme=dark] .colab-df-convert:hover {\n",
              "      background-color: #434B5C;\n",
              "      box-shadow: 0px 1px 3px 1px rgba(0, 0, 0, 0.15);\n",
              "      filter: drop-shadow(0px 1px 2px rgba(0, 0, 0, 0.3));\n",
              "      fill: #FFFFFF;\n",
              "    }\n",
              "  </style>\n",
              "\n",
              "    <script>\n",
              "      const buttonEl =\n",
              "        document.querySelector('#df-5d76b4aa-4a9b-4797-9160-f537522b6f12 button.colab-df-convert');\n",
              "      buttonEl.style.display =\n",
              "        google.colab.kernel.accessAllowed ? 'block' : 'none';\n",
              "\n",
              "      async function convertToInteractive(key) {\n",
              "        const element = document.querySelector('#df-5d76b4aa-4a9b-4797-9160-f537522b6f12');\n",
              "        const dataTable =\n",
              "          await google.colab.kernel.invokeFunction('convertToInteractive',\n",
              "                                                    [key], {});\n",
              "        if (!dataTable) return;\n",
              "\n",
              "        const docLinkHtml = 'Like what you see? Visit the ' +\n",
              "          '<a target=\"_blank\" href=https://colab.research.google.com/notebooks/data_table.ipynb>data table notebook</a>'\n",
              "          + ' to learn more about interactive tables.';\n",
              "        element.innerHTML = '';\n",
              "        dataTable['output_type'] = 'display_data';\n",
              "        await google.colab.output.renderOutput(dataTable, element);\n",
              "        const docLink = document.createElement('div');\n",
              "        docLink.innerHTML = docLinkHtml;\n",
              "        element.appendChild(docLink);\n",
              "      }\n",
              "    </script>\n",
              "  </div>\n",
              "\n",
              "\n",
              "<div id=\"df-39fce72f-c7d5-4eeb-abd2-dd73e3be8363\">\n",
              "  <button class=\"colab-df-quickchart\" onclick=\"quickchart('df-39fce72f-c7d5-4eeb-abd2-dd73e3be8363')\"\n",
              "            title=\"Suggest charts\"\n",
              "            style=\"display:none;\">\n",
              "\n",
              "<svg xmlns=\"http://www.w3.org/2000/svg\" height=\"24px\"viewBox=\"0 0 24 24\"\n",
              "     width=\"24px\">\n",
              "    <g>\n",
              "        <path d=\"M19 3H5c-1.1 0-2 .9-2 2v14c0 1.1.9 2 2 2h14c1.1 0 2-.9 2-2V5c0-1.1-.9-2-2-2zM9 17H7v-7h2v7zm4 0h-2V7h2v10zm4 0h-2v-4h2v4z\"/>\n",
              "    </g>\n",
              "</svg>\n",
              "  </button>\n",
              "\n",
              "<style>\n",
              "  .colab-df-quickchart {\n",
              "      --bg-color: #E8F0FE;\n",
              "      --fill-color: #1967D2;\n",
              "      --hover-bg-color: #E2EBFA;\n",
              "      --hover-fill-color: #174EA6;\n",
              "      --disabled-fill-color: #AAA;\n",
              "      --disabled-bg-color: #DDD;\n",
              "  }\n",
              "\n",
              "  [theme=dark] .colab-df-quickchart {\n",
              "      --bg-color: #3B4455;\n",
              "      --fill-color: #D2E3FC;\n",
              "      --hover-bg-color: #434B5C;\n",
              "      --hover-fill-color: #FFFFFF;\n",
              "      --disabled-bg-color: #3B4455;\n",
              "      --disabled-fill-color: #666;\n",
              "  }\n",
              "\n",
              "  .colab-df-quickchart {\n",
              "    background-color: var(--bg-color);\n",
              "    border: none;\n",
              "    border-radius: 50%;\n",
              "    cursor: pointer;\n",
              "    display: none;\n",
              "    fill: var(--fill-color);\n",
              "    height: 32px;\n",
              "    padding: 0;\n",
              "    width: 32px;\n",
              "  }\n",
              "\n",
              "  .colab-df-quickchart:hover {\n",
              "    background-color: var(--hover-bg-color);\n",
              "    box-shadow: 0 1px 2px rgba(60, 64, 67, 0.3), 0 1px 3px 1px rgba(60, 64, 67, 0.15);\n",
              "    fill: var(--button-hover-fill-color);\n",
              "  }\n",
              "\n",
              "  .colab-df-quickchart-complete:disabled,\n",
              "  .colab-df-quickchart-complete:disabled:hover {\n",
              "    background-color: var(--disabled-bg-color);\n",
              "    fill: var(--disabled-fill-color);\n",
              "    box-shadow: none;\n",
              "  }\n",
              "\n",
              "  .colab-df-spinner {\n",
              "    border: 2px solid var(--fill-color);\n",
              "    border-color: transparent;\n",
              "    border-bottom-color: var(--fill-color);\n",
              "    animation:\n",
              "      spin 1s steps(1) infinite;\n",
              "  }\n",
              "\n",
              "  @keyframes spin {\n",
              "    0% {\n",
              "      border-color: transparent;\n",
              "      border-bottom-color: var(--fill-color);\n",
              "      border-left-color: var(--fill-color);\n",
              "    }\n",
              "    20% {\n",
              "      border-color: transparent;\n",
              "      border-left-color: var(--fill-color);\n",
              "      border-top-color: var(--fill-color);\n",
              "    }\n",
              "    30% {\n",
              "      border-color: transparent;\n",
              "      border-left-color: var(--fill-color);\n",
              "      border-top-color: var(--fill-color);\n",
              "      border-right-color: var(--fill-color);\n",
              "    }\n",
              "    40% {\n",
              "      border-color: transparent;\n",
              "      border-right-color: var(--fill-color);\n",
              "      border-top-color: var(--fill-color);\n",
              "    }\n",
              "    60% {\n",
              "      border-color: transparent;\n",
              "      border-right-color: var(--fill-color);\n",
              "    }\n",
              "    80% {\n",
              "      border-color: transparent;\n",
              "      border-right-color: var(--fill-color);\n",
              "      border-bottom-color: var(--fill-color);\n",
              "    }\n",
              "    90% {\n",
              "      border-color: transparent;\n",
              "      border-bottom-color: var(--fill-color);\n",
              "    }\n",
              "  }\n",
              "</style>\n",
              "\n",
              "  <script>\n",
              "    async function quickchart(key) {\n",
              "      const quickchartButtonEl =\n",
              "        document.querySelector('#' + key + ' button');\n",
              "      quickchartButtonEl.disabled = true;  // To prevent multiple clicks.\n",
              "      quickchartButtonEl.classList.add('colab-df-spinner');\n",
              "      try {\n",
              "        const charts = await google.colab.kernel.invokeFunction(\n",
              "            'suggestCharts', [key], {});\n",
              "      } catch (error) {\n",
              "        console.error('Error during call to suggestCharts:', error);\n",
              "      }\n",
              "      quickchartButtonEl.classList.remove('colab-df-spinner');\n",
              "      quickchartButtonEl.classList.add('colab-df-quickchart-complete');\n",
              "    }\n",
              "    (() => {\n",
              "      let quickchartButtonEl =\n",
              "        document.querySelector('#df-39fce72f-c7d5-4eeb-abd2-dd73e3be8363 button');\n",
              "      quickchartButtonEl.style.display =\n",
              "        google.colab.kernel.accessAllowed ? 'block' : 'none';\n",
              "    })();\n",
              "  </script>\n",
              "</div>\n",
              "\n",
              "  <div id=\"id_f37672aa-a8ea-4b1c-a51b-5d6d8ddb6f9c\">\n",
              "    <style>\n",
              "      .colab-df-generate {\n",
              "        background-color: #E8F0FE;\n",
              "        border: none;\n",
              "        border-radius: 50%;\n",
              "        cursor: pointer;\n",
              "        display: none;\n",
              "        fill: #1967D2;\n",
              "        height: 32px;\n",
              "        padding: 0 0 0 0;\n",
              "        width: 32px;\n",
              "      }\n",
              "\n",
              "      .colab-df-generate:hover {\n",
              "        background-color: #E2EBFA;\n",
              "        box-shadow: 0px 1px 2px rgba(60, 64, 67, 0.3), 0px 1px 3px 1px rgba(60, 64, 67, 0.15);\n",
              "        fill: #174EA6;\n",
              "      }\n",
              "\n",
              "      [theme=dark] .colab-df-generate {\n",
              "        background-color: #3B4455;\n",
              "        fill: #D2E3FC;\n",
              "      }\n",
              "\n",
              "      [theme=dark] .colab-df-generate:hover {\n",
              "        background-color: #434B5C;\n",
              "        box-shadow: 0px 1px 3px 1px rgba(0, 0, 0, 0.15);\n",
              "        filter: drop-shadow(0px 1px 2px rgba(0, 0, 0, 0.3));\n",
              "        fill: #FFFFFF;\n",
              "      }\n",
              "    </style>\n",
              "    <button class=\"colab-df-generate\" onclick=\"generateWithVariable('df')\"\n",
              "            title=\"Generate code using this dataframe.\"\n",
              "            style=\"display:none;\">\n",
              "\n",
              "  <svg xmlns=\"http://www.w3.org/2000/svg\" height=\"24px\"viewBox=\"0 0 24 24\"\n",
              "       width=\"24px\">\n",
              "    <path d=\"M7,19H8.4L18.45,9,17,7.55,7,17.6ZM5,21V16.75L18.45,3.32a2,2,0,0,1,2.83,0l1.4,1.43a1.91,1.91,0,0,1,.58,1.4,1.91,1.91,0,0,1-.58,1.4L9.25,21ZM18.45,9,17,7.55Zm-12,3A5.31,5.31,0,0,0,4.9,8.1,5.31,5.31,0,0,0,1,6.5,5.31,5.31,0,0,0,4.9,4.9,5.31,5.31,0,0,0,6.5,1,5.31,5.31,0,0,0,8.1,4.9,5.31,5.31,0,0,0,12,6.5,5.46,5.46,0,0,0,6.5,12Z\"/>\n",
              "  </svg>\n",
              "    </button>\n",
              "    <script>\n",
              "      (() => {\n",
              "      const buttonEl =\n",
              "        document.querySelector('#id_f37672aa-a8ea-4b1c-a51b-5d6d8ddb6f9c button.colab-df-generate');\n",
              "      buttonEl.style.display =\n",
              "        google.colab.kernel.accessAllowed ? 'block' : 'none';\n",
              "\n",
              "      buttonEl.onclick = () => {\n",
              "        google.colab.notebook.generateWithVariable('df');\n",
              "      }\n",
              "      })();\n",
              "    </script>\n",
              "  </div>\n",
              "\n",
              "    </div>\n",
              "  </div>\n"
            ],
            "text/plain": [
              "                                                    Text  \\\n",
              "0      Easy Tyre Selection Process, Competitive Prici...   \n",
              "1             Very easy to use and good value for money.   \n",
              "2                  Really easy and convenient to arrange   \n",
              "3      It was so easy to select tyre sizes and arrang...   \n",
              "4      service was excellent. Only slight downside wa...   \n",
              "...                                                  ...   \n",
              "10126  I ordered the wrong tyres, however [REDACTED] ...   \n",
              "10127  Good experience, first time I have used [REDAC...   \n",
              "10128  I ordered the tyre I needed on line, booked a ...   \n",
              "10129  Excellent service from point of order to fitti...   \n",
              "10130  Seamless, well managed at both ends. I would r...   \n",
              "\n",
              "                        subtheme1                      subtheme2  \\\n",
              "0         garage service positive       value for money positive   \n",
              "1        value for money positive                            NaN   \n",
              "2        ease of booking positive                            NaN   \n",
              "3               location positive       value for money positive   \n",
              "4      length of fitting positive       ease of booking positive   \n",
              "...                           ...                            ...   \n",
              "10126             refund positive  delivery punctuality positive   \n",
              "10127  length of fitting positive                            NaN   \n",
              "10128           location positive  delivery punctuality positive   \n",
              "10129                         NaN                            NaN   \n",
              "10130                         NaN                            NaN   \n",
              "\n",
              "                        subtheme3  \n",
              "0                             NaN  \n",
              "1                             NaN  \n",
              "2                             NaN  \n",
              "3        ease of booking positive  \n",
              "4        ease of booking negative  \n",
              "...                           ...  \n",
              "10126   refund timescale positive  \n",
              "10127                         NaN  \n",
              "10128  length of fitting positive  \n",
              "10129                         NaN  \n",
              "10130                         NaN  \n",
              "\n",
              "[10131 rows x 4 columns]"
            ]
          },
          "execution_count": 47,
          "metadata": {},
          "output_type": "execute_result"
        }
      ],
      "source": [
        "\n",
        "df = df.iloc[:, :4]\n",
        "df.columns = ['Text', 'subtheme1', 'subtheme2','subtheme3']\n",
        "df\n"
      ]
    },
    {
      "cell_type": "code",
      "execution_count": 48,
      "metadata": {
        "colab": {
          "base_uri": "https://localhost:8080/"
        },
        "id": "bIO0K5z15Taf",
        "outputId": "87a3e3ba-8368-47b7-b877-2270cf442f62"
      },
      "outputs": [
        {
          "name": "stdout",
          "output_type": "stream",
          "text": [
            " Analysis of sentences \n",
            " min Length=1\n",
            " max Length=3553\n",
            " Avg Length=126.48702003750864\n"
          ]
        }
      ],
      "source": [
        "#nalyze count of each rows words of col Text,do some analysis avg lenghth of text ,max lenght min lenght\n",
        "df['word_count'] = df['Text'].str.split().str.len()\n",
        "average_length = df['Text'].str.len().mean()\n",
        "max_length = df['Text'].str.len().max()\n",
        "min_length = df['Text'].str.len().min()\n",
        "print(f\" Analysis of sentences \\n min Length={min_length}\\n max Length={max_length}\\n Avg Length={average_length}\")"
      ]
    },
    {
      "cell_type": "code",
      "execution_count": 49,
      "metadata": {
        "colab": {
          "base_uri": "https://localhost:8080/",
          "height": 452
        },
        "id": "drFa1zP768Ia",
        "outputId": "0bb5c885-38ed-4e51-c7c2-cbe42f7a1ae2"
      },
      "outputs": [
        {
          "data": {
            "image/png": "[encoded data removed]",
            "text/plain": [
              "<Figure size 640x480 with 1 Axes>"
            ]
          },
          "metadata": {},
          "output_type": "display_data"
        }
      ],
      "source": [
        "# subthem1,2 and 3 analyze a plot like each col rows subtheme lenght(min,max,avg) and also no nan values in each col\n",
        "\n",
        "import matplotlib.pyplot as plt\n",
        "# Calculate the min, max, and average length of each subtheme\n",
        "subtheme1_lengths = df['subtheme1'].str.len()\n",
        "subtheme2_lengths = df['subtheme2'].str.len()\n",
        "subtheme3_lengths = df['subtheme3'].str.len()\n",
        "\n",
        "min_lengths = [subtheme1_lengths.min(), subtheme2_lengths.min(), subtheme3_lengths.min()]\n",
        "max_lengths = [subtheme1_lengths.max(), subtheme2_lengths.max(), subtheme3_lengths.max()]\n",
        "avg_lengths = [subtheme1_lengths.mean(), subtheme2_lengths.mean(), subtheme3_lengths.mean()]\n",
        "\n",
        "# Count the number of non-NaN values in each subtheme\n",
        "subtheme1_non_nan_count = df['subtheme1'].notna().sum()\n",
        "subtheme2_non_nan_count = df['subtheme2'].notna().sum()\n",
        "subtheme3_non_nan_count = df['subtheme3'].notna().sum()\n",
        "\n",
        "# Create a bar plot of the min, max, and average length of each subtheme\n",
        "x_labels = ['subtheme1', 'subtheme2', 'subtheme3']\n",
        "width = 0.25\n",
        "\n",
        "fig, ax = plt.subplots()\n",
        "rects1 = ax.bar(np.arange(len(x_labels)) - width, min_lengths, width, label='Min Length')\n",
        "rects2 = ax.bar(np.arange(len(x_labels)), avg_lengths, width, label='Avg Length')\n",
        "rects3 = ax.bar(np.arange(len(x_labels)) + width, max_lengths, width, label='Max Length')\n",
        "\n",
        "# Add labels and title\n",
        "ax.set_ylabel('Length')\n",
        "ax.set_title('Subtheme Length Analysis')\n",
        "ax.set_xticks(np.arange(len(x_labels)))\n",
        "ax.set_xticklabels(x_labels)\n",
        "ax.legend()\n",
        "# Add annotations for non-NaN values\n",
        "ax.annotate(f'Non-NAN=\\n{subtheme1_non_nan_count}', xy=(0, min_lengths[0] + 20), ha='center')\n",
        "ax.annotate(f'NonNAN=\\n{subtheme2_non_nan_count}', xy=(1, min_lengths[1] + 20), ha='center')\n",
        "ax.annotate(f'Non-NAN=\\n{subtheme3_non_nan_count}', xy=(2, min_lengths[2] + 20), ha='center')\n",
        "\n",
        "plt.show()\n"
      ]
    },
    {
      "cell_type": "markdown",
      "metadata": {
        "id": "xRkM3QXX2AaS"
      },
      "source": [
        "\n",
        "\n",
        "*   Mostly data have 1 subtheme\n",
        "*   50% of data have 2 subtheme(approx)\n",
        "*   only 15% data have 3  subtheme(approx)\n",
        "\n"
      ]
    },
    {
      "cell_type": "markdown",
      "metadata": {
        "id": "_XEm05Ib2yZU"
      },
      "source": [
        "**Unique Aspect**"
      ]
    },
    {
      "cell_type": "code",
      "execution_count": 50,
      "metadata": {
        "id": "smItr13JAe0W"
      },
      "outputs": [],
      "source": [
        "def remove_sentiment_word(sentence):\n",
        "    words = sentence.split()\n",
        "    # Check if the last word is a sentiment word\n",
        "    sentiment_words = ['positive', 'negative', 'neutral']\n",
        "    if words[-1].lower() in sentiment_words:\n",
        "        # Remove the last word\n",
        "        modified_sentence = ' '.join(words[:-1])\n",
        "        return modified_sentence\n",
        "    else:\n",
        "        # No sentiment word found, return the original sentence\n",
        "        return sentence"
      ]
    },
    {
      "cell_type": "code",
      "execution_count": 51,
      "metadata": {
        "colab": {
          "base_uri": "https://localhost:8080/"
        },
        "id": "oAtBpctp-I71",
        "outputId": "adeb4843-9e45-473b-9973-848d69c3cac2"
      },
      "outputs": [
        {
          "name": "stdout",
          "output_type": "stream",
          "text": [
            " index 2131--good prices and excellent service when fitting tyre - will use again.\n",
            " ['value for money positive', 'garage service positive', nan]\n",
            "________________________________________________________________________\n",
            " index 8428--Good Clear Service. Good, prompt service.Probably best retail prices. Local tyre fitters could be better rated\n",
            " ['value for money positive', 'location positive', nan]\n",
            "________________________________________________________________________\n",
            " index 3617--I received excellent service both friendly no nonsense a pleasure to do business with.\n",
            " ['garage service positive', nan, nan]\n",
            "________________________________________________________________________\n",
            " index 1414--Good service, fitting was at the same location that I have normally used direct.\n",
            " ['location positive', nan, nan]\n",
            "________________________________________________________________________\n",
            " index 1431--Great, polite service at garage and great price for tyres.\n",
            " ['value for money positive', 'garage service positive', nan]\n",
            "________________________________________________________________________\n",
            " index 5844--Very easy to use, knowledgeable and customer focussed with lots of options.\n",
            " [nan, nan, nan]\n",
            "________________________________________________________________________\n",
            " index 87--Excellent all round, very competitive prices and the team were hugely helpful\n",
            " ['value for money positive', nan, nan]\n",
            "________________________________________________________________________\n",
            " index 5041--Excellent Service. Very easy to order and arrange fitment\n",
            " ['ease of booking positive', nan, nan]\n",
            "________________________________________________________________________\n",
            " index 8972--Did what it said on the site no problems at all\n",
            " [nan, nan, nan]\n",
            "________________________________________________________________________\n",
            " index 964--Cheaper tyres than most places.\n",
            " ['value for money positive', nan, nan]\n",
            "________________________________________________________________________\n"
          ]
        }
      ],
      "source": [
        "import matplotlib.patches as patches\n",
        "import random\n",
        "for i in random.sample(range(df.shape[0]),10):\n",
        "  text = df['Text'].iloc[i]\n",
        "  subthemes = [df['subtheme1'].iloc[i], df['subtheme2'].iloc[i], df['subtheme3'].iloc[i]]\n",
        "  colors = ['yellow', 'green', 'blue']\n",
        "  print(f\" index {i}--{text}\\n {subthemes}\")\n",
        "  print(\"________________________________________________________________________\")\n"
      ]
    },
    {
      "cell_type": "code",
      "execution_count": 52,
      "metadata": {
        "colab": {
          "base_uri": "https://localhost:8080/"
        },
        "id": "9ewDzckHDylI",
        "outputId": "b8f66c90-bbff-4273-b6be-6ed5e9cb2fe9"
      },
      "outputs": [
        {
          "name": "stdout",
          "output_type": "stream",
          "text": [
            "length of uniques subtheme in each col\n",
            " subtheme1=10131\n",
            " subtheme2=10131\n",
            " subthemes3=10131\n"
          ]
        }
      ],
      "source": [
        "uniques1=df['subtheme1'].reset_index(drop=True).tolist()\n",
        "uniques2=df['subtheme2'].reset_index(drop=True).tolist()\n",
        "uniques3=df['subtheme3'].reset_index(drop=True).tolist()\n",
        "print(f\"length of uniques subtheme in each col\\n subtheme1={len(uniques1)}\\n subtheme2={len(uniques2)}\\n subthemes3={len(uniques3)}\")"
      ]
    },
    {
      "cell_type": "code",
      "execution_count": 53,
      "metadata": {
        "id": "IbEWzPPhGjx7"
      },
      "outputs": [],
      "source": [
        "# uniques1"
      ]
    },
    {
      "cell_type": "code",
      "execution_count": 54,
      "metadata": {
        "id": "areeGMPAFm8Y"
      },
      "outputs": [],
      "source": [
        "uniques=uniques1+uniques2+uniques3"
      ]
    },
    {
      "cell_type": "code",
      "execution_count": 55,
      "metadata": {
        "colab": {
          "base_uri": "https://localhost:8080/"
        },
        "id": "hIjhamdtGFHD",
        "outputId": "f7ee646c-fb44-4367-d7ab-c230a2902c19"
      },
      "outputs": [
        {
          "name": "stdout",
          "output_type": "stream",
          "text": [
            "subthem1                                              ||subtheme2                                              ||subtheme3\n",
            "---------------------------------------------------------------------------------------------------------------------------\n",
            "garage service positive                           value for money positive                                           nan\n",
            "value for money positive                           nan                                           nan\n",
            "ease of booking positive                           nan                                           nan\n",
            "location positive                           value for money positive                                           ease of booking positive\n",
            "length of fitting positive                           ease of booking positive                                           ease of booking negative\n",
            "garage service positive                           value for money positive                                           nan\n",
            "value for money positive                           nan                                           nan\n",
            "garage service positive                           nan                                           nan\n",
            "location positive                           nan                                           nan\n",
            "value for money positive                           nan                                           nan\n"
          ]
        }
      ],
      "source": [
        "len(uniques)\n",
        "print(f\"subthem1                                              ||subtheme2                                              ||subtheme3\")\n",
        "print(\"---------------------------------------------------------------------------------------------------------------------------\")\n",
        "for i in range(10):\n",
        "    print(f\"{uniques1[i]}                           {uniques2[i]}                                           {uniques3[i]}\")"
      ]
    },
    {
      "cell_type": "code",
      "execution_count": 56,
      "metadata": {
        "colab": {
          "base_uri": "https://localhost:8080/",
          "height": 515
        },
        "id": "updfyGH4g_F9",
        "outputId": "943aa691-f7f8-47ac-a60c-f973dccea76d"
      },
      "outputs": [
        {
          "data": {
            "image/png": "[encoded data removed]",
            "text/plain": [
              "<Figure size 640x480 with 1 Axes>"
            ]
          },
          "metadata": {},
          "output_type": "display_data"
        },
        {
          "name": "stdout",
          "output_type": "stream",
          "text": [
            "Positive aspects: 11515\n",
            "Negative aspects: 2345\n",
            "Neutral aspects: 0\n",
            "Empty aspects: 44\n",
            "Total aspects: 13904\n"
          ]
        }
      ],
      "source": [
        "pos_asp=[]\n",
        "neg_asp=[]\n",
        "empty_asp=[]\n",
        "aspects = uniques\n",
        "positive_count = 0\n",
        "negative_count = 0\n",
        "neutral_count = 0\n",
        "empty_count = 0\n",
        "\n",
        "for aspect in aspects:\n",
        "    words = str(aspect).split()\n",
        "    if len(words) > 0 and str(aspect)!='nan':\n",
        "        sentiment = words[-1].lower()\n",
        "        if sentiment == 'positive':\n",
        "            positive_count += 1\n",
        "            pos_asp.append(remove_sentiment_word(str(aspect)))\n",
        "        elif sentiment == 'negative':\n",
        "            negative_count += 1\n",
        "            neg_asp.append(remove_sentiment_word(str(aspect)))\n",
        "        elif sentiment == 'neutral':\n",
        "            neutral_count += 1\n",
        "        else:\n",
        "            empty_count += 1\n",
        "            empty_asp.append(str(aspect))\n",
        "\n",
        "labels = ['Positive', 'Negative', 'Neutral', 'Empty']\n",
        "sizes = [positive_count, negative_count, neutral_count, empty_count]\n",
        "colors = ['yellowgreen', 'gold', 'lightskyblue', 'lightcoral']\n",
        "\n",
        "plt.pie(sizes, labels=labels, autopct='%1.1f%%', startangle=90, colors=colors)\n",
        "plt.title('Sentiment Analysis of Aspects')\n",
        "plt.axis('equal')\n",
        "plt.show()\n",
        "\n",
        "print(f\"Positive aspects: {positive_count}\")\n",
        "print(f\"Negative aspects: {negative_count}\")\n",
        "print(f\"Neutral aspects: {neutral_count}\")\n",
        "print(f\"Empty aspects: {empty_count}\")\n",
        "print(f\"Total aspects: {positive_count+negative_count+empty_count+neutral_count}\")\n"
      ]
    },
    {
      "cell_type": "code",
      "execution_count": 57,
      "metadata": {
        "colab": {
          "base_uri": "https://localhost:8080/",
          "height": 35
        },
        "id": "NrNlSW6YlYoP",
        "outputId": "282a96fb-09f3-4692-cde1-ea1fedf9ded5"
      },
      "outputs": [
        {
          "data": {
            "application/vnd.google.colaboratory.intrinsic+json": {
              "type": "string"
            },
            "text/plain": [
              "'garage service'"
            ]
          },
          "execution_count": 57,
          "metadata": {},
          "output_type": "execute_result"
        }
      ],
      "source": [
        "pos_asp[0]"
      ]
    },
    {
      "cell_type": "code",
      "execution_count": 58,
      "metadata": {
        "colab": {
          "base_uri": "https://localhost:8080/"
        },
        "id": "oT3GYIjRpD2C",
        "outputId": "6e862294-b646-4f5c-b28d-2fd8447ba68c"
      },
      "outputs": [
        {
          "name": "stdout",
          "output_type": "stream",
          "text": [
            "Length of unique aspect: 76\n"
          ]
        }
      ],
      "source": [
        "import matplotlib.pyplot as plt\n",
        "\n",
        "def combine_unique_strings_with_counts(list1, list2, list3):\n",
        "    \"\"\"Combines three lists of strings into a new dictionary containing unique strings as keys and their counts as values.\n",
        "\n",
        "    Args:\n",
        "        list1 (list): The first list of strings.\n",
        "        list2 (list): The second list of strings.\n",
        "        list3 (list): The third list of strings.\n",
        "\n",
        "    Returns:\n",
        "        dict: A dictionary where keys are unique strings from the three input lists and values are their corresponding counts.\n",
        "\n",
        "    Raises:\n",
        "        TypeError: If any of the input lists are not of type list.\n",
        "        ValueError: If any of the input lists contain non-string elements.\n",
        "    \"\"\"\n",
        "\n",
        "    if not all(isinstance(l, list) for l in (list1, list2, list3)):\n",
        "        raise TypeError(\"Input lists must be of type list.\")\n",
        "\n",
        "    for l in (list1, list2, list3):\n",
        "        if not all(isinstance(s, str) for s in l):\n",
        "            raise ValueError(\"Input lists must contain only strings.\")\n",
        "\n",
        "    combined_list = list1 + list2 + list3\n",
        "    unique_counts = {s: combined_list.count(s) for s in set(combined_list)}\n",
        "\n",
        "    return unique_counts\n",
        "\n",
        "unique_counts = combine_unique_strings_with_counts(pos_asp, neg_asp, empty_asp)\n",
        "# Plot the bar chart\n",
        "unique_strings = list(unique_counts.keys())\n",
        "unique_counts_list = list(unique_counts.values())\n",
        "print(f\"Length of unique aspect: {len(unique_counts)}\")\n",
        "\n"
      ]
    },
    {
      "cell_type": "markdown",
      "metadata": {
        "id": "VX_fMNHG3Vjo"
      },
      "source": [
        "*Only 76 are unique aspect*"
      ]
    },
    {
      "cell_type": "code",
      "execution_count": 59,
      "metadata": {
        "colab": {
          "base_uri": "https://localhost:8080/"
        },
        "id": "7tJI0HnVznRc",
        "outputId": "ecd6bf98-3ca8-4d81-ca29-c8c763d46e0b"
      },
      "outputs": [
        {
          "data": {
            "text/plain": [
              "({' good range and competitive prices on website': 1,\n",
              "  ' hassle free': 1,\n",
              "  ' simple fitting procedure': 1,\n",
              "  \" one tyre with dangerously low air pressure. Asked the garage to top up the tyre and check the other three. They did top up the one tyre but didn't bother to check the others. When I checked the tyres 10 minutes later all four tyres had varying pressures (from 29 to 37.5). I emailed both companies and have not received an apology from either. I will never use Lavender Motors again (they shouldn't be in business) and likely not [REDACTED].com either.\": 1,\n",
              "  ' clean reception area and free coffee': 1,\n",
              "  ' staff were courteous': 1,\n",
              "  ' ability to browse through various makes of tyres before making a decision': 1,\n",
              "  ' fitting took a long time.': 1,\n",
              "  ' easy to browse selection of tyres before making a choice': 1,\n",
              "  ' Great garage fitted them': 1,\n",
              "  ' Garage was quick & efficient with fitting of tyres': 1,\n",
              "  ' really friendly and efficient service.': 1,\n",
              "  'no issues': 1,\n",
              "  ' and an excellent service from the garage who fitted the tyre.': 1,\n",
              "  \" they looked grey and old (but unused) not at all how new tyres normally look. Not surprising when I inspected the 'Dot Date' and it was 4517 (ie tyres manufactured in week 45 of 2017.Queried this with [REDACTED] who told me that they have many different suppliers and do not check the age of the tyres.They could re-order but no guarantee that the replacements would be any newer. Not at all happy and requested a refund which they say they will do.\": 1,\n",
              "  ' easily navigable web site': 1,\n",
              "  ' my tyre supplier of choice!.': 1,\n",
              "  ' great price.': 1,\n",
              "  ' good communication': 1,\n",
              "  ' tje garage i choice to go to in order to have the tyres fitted was nit that good and i certainly will not be using them again.': 1,\n",
              "  ' it feels more transparent than buying from a mechanic based on their opinion.': 1,\n",
              "  ' simple booking for fitting procedure.': 1,\n",
              "  ' recommended a great local shop for fitting': 1,\n",
              "  ' really good prices': 1,\n",
              "  ' the process was simple and quick.Regular offers make it easy to find premium tyres at decent prices.': 1,\n",
              "  ' good prices': 1,\n",
              "  ' simple to use website': 1,\n",
              "  ' only 8 as the garage was unable to fit the tyres in the allotted time and I had to wait over an hour.': 1,\n",
              "  ' the site is easy to use': 1,\n",
              "  ' wide choice of tyres at great prices including delivery and fitting.': 1,\n",
              "  ' won’t be using anyone else.': 1,\n",
              "  ' good service': 1,\n",
              "  ' telephone help avaiable if required.': 1,\n",
              "  ' cheaper than anything else I have found by some way.': 1,\n",
              "  ' prompt deliveries...': 1,\n",
              "  ' slick delivery service and good fitter.': 1,\n",
              "  ' faster than dealerships to arrange supply and partnership with ATS works well .': 1,\n",
              "  ' keep it up! Will definitely buy from you again.': 1,\n",
              "  ')': 1,\n",
              "  ' and both times have been good experiences.': 1,\n",
              "  ' Cheapest price': 1,\n",
              "  ' good local fitting services': 1,\n",
              "  ' good price': 1,\n",
              "  ' polite staff': 1},\n",
              " 44)"
            ]
          },
          "execution_count": 59,
          "metadata": {},
          "output_type": "execute_result"
        }
      ],
      "source": [
        "one={key: value for key, value in unique_counts.items() if value ==1}\n",
        "one,len(one)"
      ]
    },
    {
      "cell_type": "markdown",
      "metadata": {
        "id": "W0qMXaOL3jy-"
      },
      "source": [
        "* *44 have only one count-means they occured only once in dataset*\n",
        "* some of them are too long aspect its like feedback-we can make it more intuitive by extracting better aspect\n"
      ]
    },
    {
      "cell_type": "code",
      "execution_count": 60,
      "metadata": {
        "colab": {
          "base_uri": "https://localhost:8080/"
        },
        "id": "RK0jSzww4LIg",
        "outputId": "f330f13c-e1bd-4daf-99e2-a94e68a4bb0c"
      },
      "outputs": [
        {
          "data": {
            "text/plain": [
              "(32,\n",
              " {'value for money': 4828,\n",
              "  'failed payment': 4,\n",
              "  'response time': 93,\n",
              "  'advisor/agent service': 231,\n",
              "  'discount not applied': 9,\n",
              "  'tyre agedot code': 8,\n",
              "  \"mobile fitter didn't arrive\": 8,\n",
              "  'change of date': 270,\n",
              "  'extra charges': 117,\n",
              "  'garage service': 2359,\n",
              "  'change of time': 39,\n",
              "  'refund': 43,\n",
              "  'incorrect tyres sent': 64,\n",
              "  'discounts': 135,\n",
              "  'facilities': 39,\n",
              "  'booking confusion': 105,\n",
              "  'call wait time': 21,\n",
              "  'wait time': 371,\n",
              "  'refund timescale': 10,\n",
              "  'late notice': 65,\n",
              "  'refund not actioned': 14,\n",
              "  'length of fitting': 719,\n",
              "  'damage': 115,\n",
              "  'tyre quality': 459,\n",
              "  'no stock': 35,\n",
              "  'ease of booking': 1360,\n",
              "  'balancing': 33,\n",
              "  'tyre age/dot code': 9,\n",
              "  'mobile fitter': 244,\n",
              "  'location': 1061,\n",
              "  'advisoragent service': 324,\n",
              "  'delivery punctuality': 668})"
            ]
          },
          "execution_count": 60,
          "metadata": {},
          "output_type": "execute_result"
        }
      ],
      "source": [
        "more_one={key: value for key, value in unique_counts.items() if value >1}\n",
        "len(more_one),more_one"
      ]
    },
    {
      "cell_type": "markdown",
      "metadata": {
        "id": "-pYyZ_aZ4US7"
      },
      "source": [
        "\n",
        "\n",
        "*   *We have 32 aspect which occurs mostly in dataset*\n",
        "*   These are more insightsfull\n",
        "\n"
      ]
    },
    {
      "cell_type": "markdown",
      "metadata": {
        "id": "fvy1qALLDHrq"
      },
      "source": [
        "# **Using LLM for Subtheme Analysis**\n",
        "\n",
        "\n",
        "*   Aspect Extraction\n",
        "\n",
        "*   Sentiment prediction\n",
        "*   Tech:\n",
        "    *  Langchain\n",
        "    * LLM\n",
        "\n"
      ]
    },
    {
      "cell_type": "code",
      "execution_count": 61,
      "metadata": {
        "id": "UFmbDLbj4ka7"
      },
      "outputs": [],
      "source": [
        "%%capture\n",
        "!pip install langchain -U\n",
        "!pip install openai\n",
        "!pip install python-dotenv\n",
        "!pip install --upgrade --quiet  langchain-google-genai pillow\n"
      ]
    },
    {
      "cell_type": "code",
      "execution_count": 62,
      "metadata": {
        "id": "_pCMKrkIFQCX"
      },
      "outputs": [],
      "source": [
        "from langchain.llms import OpenAI\n",
        "from langchain.chains import LLMChain\n",
        "from langchain.prompts import PromptTemplate\n",
        "from langchain.prompts.few_shot import FewShotPromptTemplate\n",
        "from langchain.chains import SequentialChain\n",
        "from langchain_google_genai import ChatGoogleGenerativeAI\n",
        "\n",
        "from dotenv import load_dotenv\n",
        "import os\n",
        "import openai"
      ]
    },
    {
      "cell_type": "code",
      "execution_count": 63,
      "metadata": {
        "id": "j0_HAfkDFI37"
      },
      "outputs": [],
      "source": [
        "load_dotenv('/content/vars.env')\n",
        "from google.colab import userdata\n",
        "os.environ['OPENAI_API_KEY']=userdata.get('OPENAI_API_KEY')\n",
        "os.environ[\"GOOGLE_API_KEY\"]=userdata.get('GOOGLE_API_KEY')\n",
        "# llm=OpenAI(temperature=0.7)# exceeded  qouta limit\n",
        "from langchain_google_genai import GoogleGenerativeAI, HarmBlockThreshold, HarmCategory\n",
        "llm = ChatGoogleGenerativeAI(model=\"gemini-pro\",safety_settings={\n",
        "        HarmCategory.HARM_CATEGORY_DANGEROUS_CONTENT: HarmBlockThreshold.BLOCK_NONE,\n",
        "        HarmCategory.HARM_CATEGORY_HARASSMENT:HarmBlockThreshold.BLOCK_NONE,\n",
        "        HarmCategory.HARM_CATEGORY_HATE_SPEECH:HarmBlockThreshold.BLOCK_NONE,\n",
        "        HarmCategory.HARM_CATEGORY_SEXUALLY_EXPLICIT:HarmBlockThreshold.BLOCK_NONE,\n",
        "    },)"
      ]
    },
    {
      "cell_type": "markdown",
      "metadata": {
        "id": "_EVCvW2BJAH9"
      },
      "source": [
        "# Chains"
      ]
    },
    {
      "cell_type": "markdown",
      "metadata": {
        "id": "ZhyyTbhOJEb9"
      },
      "source": [
        "# **Aspect Extraction**"
      ]
    },
    {
      "cell_type": "code",
      "execution_count": 64,
      "metadata": {
        "id": "VwvzDf8QIVLx"
      },
      "outputs": [],
      "source": [
        "# my algorithm:\n",
        "#  we have some existing aspects from data i will give more weightge to those have >1 counts\n",
        "#as also consider those have 1 counts as it is very high(44 here) but we will do some preprocessing to make it small and insightsfull\n",
        "# give some example and corresponding aspect to llm chain to understand(few shot learning)\n",
        "# for make it boundary we will provide all the aspects so that it will look for these in sentences.\n",
        "# we can give of each unique aspects atleast 1 review so that llm know how aspects comes with review\n"
      ]
    },
    {
      "cell_type": "code",
      "execution_count": 65,
      "metadata": {
        "colab": {
          "base_uri": "https://localhost:8080/"
        },
        "id": "FAigE0zQLb_T",
        "outputId": "67f41f22-d752-4919-d449-b28383a8b33a"
      },
      "outputs": [
        {
          "name": "stdout",
          "output_type": "stream",
          "text": [
            "[\n",
            "    {\n",
            "        \"review\": \"The ordering and booking process was straight forward. However the fitting of the tyres was delayed so had to hang around for over 45mins longer than expected. Something beyond [REDACTED] influence.\",\n",
            "        \"aspects\": \"Relevent Aspect are:ease of booking,wait time,wait time\"\n",
            "    },\n",
            "    {\n",
            "        \"review\": \"[REDACTED] is an excellent service. The tyre choice is comprehensive, the prices rarely bettered, and the local fitting deals (Wiltshire Tyres in Melksham in my case) work competently and efficiently. Don't have any doubts about sourcing tyres this way.\",\n",
            "        \"aspects\": \"Relevent Aspect are:value for money,length of fitting,garage service\"\n",
            "    },\n",
            "    {\n",
            "        \"review\": \"It was so easy , from ordering to arranging fitting a kind of one stop shop even getting to pick a time slot for fitting absolutely brilliant. Also extremely good prices\",\n",
            "        \"aspects\": \"Relevent Aspect are:location,value for money,ease of booking\"\n",
            "    },\n",
            "    {\n",
            "        \"review\": \"Was taken at time booked and job finished within 30 minutes. Easy easy and good value. Pleasant staff\",\n",
            "        \"aspects\": \"Relevent Aspect are:ease of booking,length of fitting,value for money\"\n",
            "    },\n",
            "    {\n",
            "        \"review\": \"[REDACTED] were efficient & courteous, however, 3 things let them down.1. The original date that was booked had to be changed2. The original tyre that I chose from the website had an incorrect speed rating for my car (should have been Y but website showed X).3. The quality of the garage that carried out the tyre change was a poorly run (back street type) garage where the housekeeping within was so poor that it was bordering on a dangerous environment to work in.\",\n",
            "        \"aspects\": \"Relevent Aspect are:change of date,garage service,facilities\"\n",
            "    },\n",
            "    {\n",
            "        \"review\": \"Slight hick-up getting all four tyres for delivery. Fitting date missed twice. However [REDACTED] kept me updated of the problem causing the delay. Mobile fitter used was excellent (appeared when advised, polite and efficient).\",\n",
            "        \"aspects\": \"Relevent Aspect are:length of fitting,mobile fitter,delivery punctuality\"\n",
            "    },\n",
            "    {\n",
            "        \"review\": \"Web-site was easy to navigate and order the tyres with a good choice of local fitting centres. I purchased two top range tyres for a good price and my chosen fitting centre fitted them at the time and date I chose without any additional fees. Will use again.\",\n",
            "        \"aspects\": \"Relevent Aspect are:location,tyre quality,value for money\"\n",
            "    },\n",
            "    {\n",
            "        \"review\": \"I have used this company several times mainly because if their competitive prices, however once I have ordered my tyres and paid for them and booked my fitting time I believe that all is good , however as has happened today for my fitting tomorrow I have just had a cancellation email as the tyres haven\\u2019t been sent to the garage.This seems to be a common problem going by other reviews so my question is how can they be so incompetent, it should be simple , customer orders tyres, they should be delivered to relevant garage to be fitted...simple. But once again they have failed me ( I don\\u2019t think I will use them again and would not recommend them) other issues I\\u2019ve previously had were booked into a garage for a Saturday appointment when the garage didn\\u2019t open on a Saturday and another appointment was cancelled because they didn\\u2019t have enough fitters!\",\n",
            "        \"aspects\": \"Relevent Aspect are:late notice,delivery punctuality,value for money\"\n",
            "    },\n",
            "    {\n",
            "        \"review\": \"The website was so easy to use and I managed to find a local garage to fit a new tyre for a very competitive price. I was very relieved as other tyre companies couldn\\u2019t even find a tyre to fit as the car was a 2019 number plate . When they did I had to wait a week for a tyre to be delivered! Not good when you have only 3 useable tyres . The garage I went to next day were friendly and really good. The receptionist was so welcoming and even made me a cup of tea while I waited. Will definitely use them again and [REDACTED]\",\n",
            "        \"aspects\": \"Relevent Aspect are:location,value for money,garage service\"\n",
            "    },\n",
            "    {\n",
            "        \"review\": \"I looked at the [REDACTED] website and it seemed ideal - very competitive price , very local fitting and appeared that I could get my tyre replaced very quickly.I'd got a puncture on Saturday night so on Monday i tried to ge ta new tyre - the [REDACTED] website said first available date wednesday -i thought this was reasonable as i have had difficulty sourcing tyres before - I picked a very local garage and it came up with virtually every time slot available - I picked one and received an email with booking reference etc.... I assumed this meant it was booked.The next day I received an email and text saying to contact [REDACTED] urgently - which I did - I was told I couldn't have the appointment I had booked and on asking for an alternative appointment that day I was told there were NONE available - they were fully booked. I asked why I had received an email and was told that isn't a confirmation!I was then told I could have an appointment on Thurs at ANY time - I opted for 11:00am although I could have done any time... I was contacted about 10mins later to be told there were NO appointments for the WHOLE of thursday... why offer me any time iwanted if i wasn't able to get any appointment ??By this time I just wished I'd never paid for the tyre and had tried elsewhere - I was then told I could have any time Friday!! I said I was working on Friday and wouldn't be able to ge tto the garage until 15:30....they shut at 16.00! ...but I was told I could have that time.I arrived at the garage early and they said they could do my tyre now...but when they went to look they said they didn't think the tyre had come as there was nothing in my name...As I was about to explode they said they had a tyre not in my name that they could fit now.After explaining my frustrating experience to the guy in the garage he said if i'd called them directly on Monday - they could have done it that afternoon!!!!... although they probably couldn't compete with the price - he looked for me and it would have cost \\u00a36 more!!! I probably would have paid \\u00a340 more!! NOT because i wanted to but for the convenience and lack of stress i had to endure dealing with [REDACTED].If in the beginning I'd been told i couldn't have it done until Friday i would have been frustrated but it would have been my choice wether i continued with the purchase or went elsewhere - but to be mucked about and having to reschedule appointments etc....i DEFINITELY will NOT be using them again or be recommending them to anyone else\",\n",
            "        \"aspects\": \"Relevent Aspect are:change of date,delivery punctuality,garage service\"\n",
            "    },\n",
            "    {\n",
            "        \"review\": \"The online experience was very straightforward, the prices were competitive, and the delivery/fitting was efficiently carried out.\",\n",
            "        \"aspects\": \"Relevent Aspect are:garage service,value for money,delivery punctuality\"\n",
            "    },\n",
            "    {\n",
            "        \"review\": \"I wanted tyres for a trailer and using [REDACTED] gave me the time and ability to choose exactly what I wanted and fitted by a trusted local company, without being persuaded to have what's in stock. All at an excellent price.\",\n",
            "        \"aspects\": \"Relevent Aspect are:value for money,location,garage service\"\n",
            "    },\n",
            "    {\n",
            "        \"review\": \"Great pricing, and a excellent range to choose from. Found a local garage to fit them, at at convenient time. Had absolutely no problems. Website is easy to navigate and payment steps were nice and simple. 10/10.\",\n",
            "        \"aspects\": \"Relevent Aspect are:location,ease of booking,value for money\"\n",
            "    },\n",
            "    {\n",
            "        \"review\": \"It allows you to take your time and compare different tyres in your own time without any pressure. Good deals and easy to book with large selection of local garages.\",\n",
            "        \"aspects\": \"Relevent Aspect are:location,value for money,ease of booking\"\n",
            "    },\n",
            "    {\n",
            "        \"review\": \"Lots of choice of tyres on the site and I was able to choose the fitter I wanted. Tyres were waiting at the fitters as promised and the time slot I was given was stuck to. Can't fault the service so far. Car is running well with four new tyres.\",\n",
            "        \"aspects\": \"Relevent Aspect are:ease of booking,delivery punctuality,wait time\"\n",
            "    },\n",
            "    {\n",
            "        \"review\": \"Good local partner for fitting and competitive pricing\",\n",
            "        \"aspects\": \"Relevent Aspect are:location,value for money,garage service\"\n",
            "    },\n",
            "    {\n",
            "        \"review\": \"A great all round service. Easy to book online and pick a time preference. Arrived within the time scale that was allocated and promptly changed the tyres whilst the car was on our drive! The technician was friendly, knowledgeable and offered useful practical advice! Would definitely use again.\",\n",
            "        \"aspects\": \"Relevent Aspect are:ease of booking,mobile fitter,wait time\"\n",
            "    },\n",
            "    {\n",
            "        \"review\": \"Hassle free booking from home.Good price.Fitted in good time on the date required.\",\n",
            "        \"aspects\": \"Relevent Aspect are:ease of booking,value for money,wait time\"\n",
            "    },\n",
            "    {\n",
            "        \"review\": \"Excellent service from start to finish. Would highly recommend, with their fitting service included it\\u2019s hard to find a better price for tyres, fitting balancing and disposal of old.\",\n",
            "        \"aspects\": \"Relevent Aspect are:extra charges,garage service,value for money\"\n",
            "    },\n",
            "    {\n",
            "        \"review\": \"Great price and a professional local fitter. Hard to find fault with [REDACTED]\",\n",
            "        \"aspects\": \"Relevent Aspect are:location,value for money,garage service\"\n",
            "    },\n",
            "    {\n",
            "        \"review\": \"Always excellent pricing and good delivery times, so convenient that I can get fitting at my regular garage also.\",\n",
            "        \"aspects\": \"Relevent Aspect are:garage service,value for money,delivery punctuality\"\n",
            "    },\n",
            "    {\n",
            "        \"review\": \"Competitive prices. Easy transaction and choice of location for fitting.\",\n",
            "        \"aspects\": \"Relevent Aspect are:value for money,location,ease of booking\"\n",
            "    },\n",
            "    {\n",
            "        \"review\": \"[REDACTED] was easy to use on the website - type in your car and it tells you the tyres you need, even on the transferred plate. The price was good, the garage was close and the time was quick.\",\n",
            "        \"aspects\": \"Relevent Aspect are:length of fitting,location,value for money\"\n",
            "    },\n",
            "    {\n",
            "        \"review\": \"Everything the present day consumer expects. Swift, painless and economic. Everything the present day consumer asks for. I chose my local ATS garage for location rather than anything else, but that was also a great experience. My tyres were removed, shifted to the rear and new tyres fitted within about 40 minutes, which included completing paperwork, having a coffee, checking my emails and chatting to the knowledgable and really friendly and professional service advisors. A genuine top drawer experience. And of course the price and choice of tyres was the key to my decision for choosing [REDACTED].\",\n",
            "        \"aspects\": \"Relevent Aspect are:value for money,garage service,location\"\n",
            "    },\n",
            "    {\n",
            "        \"review\": \"A simple process to order your tyres, book a local fitter and get the best price. Works very well.\",\n",
            "        \"aspects\": \"Relevent Aspect are:location,value for money,ease of booking\"\n",
            "    },\n",
            "    {\n",
            "        \"review\": \"Local fitting agent quite slow.\",\n",
            "        \"aspects\": \"Relevent Aspect are:length of fitting,location,length of fitting\"\n",
            "    },\n",
            "    {\n",
            "        \"review\": \"Excellent idea, what's not to like. You get the price before you get them fitted and then arrange to have the tyres fitted locally. Great service and very easy to use.\",\n",
            "        \"aspects\": \"Relevent Aspect are:value for money,ease of booking,location\"\n",
            "    },\n",
            "    {\n",
            "        \"review\": \"Cheapest option around and quick delivery and easiest possible tyre fitters nearby. Delighted.\",\n",
            "        \"aspects\": \"Relevent Aspect are:location,value for money,delivery punctuality\"\n",
            "    },\n",
            "    {\n",
            "        \"review\": \"Excellent service. I needed to change the fitting date and a quick call and it was all sorted and confirmed with an email. Fitting was done on time, price was competitive. Thank you. Will definitely use you again and have recommended to friend at work\",\n",
            "        \"aspects\": \"Relevent Aspect are:value for money,advisoragent service,wait time\"\n",
            "    },\n",
            "    {\n",
            "        \"review\": \"Good customer service from McConnechies (local fitter), good prices from [REDACTED].\",\n",
            "        \"aspects\": \"Relevent Aspect are:value for money,location,garage service\"\n",
            "    },\n",
            "    {\n",
            "        \"review\": \"[REDACTED] as a company was very good to deal with, especially when I got the order wrong.However, they need to be more selective with their fitting partners. Both my wheels had paint gouged off when removing and re fitting new tyres. Poor equipment and badly maintained.\",\n",
            "        \"aspects\": \"Relevent Aspect are:ease of booking,advisor/agent service,damage\"\n",
            "    },\n",
            "    {\n",
            "        \"review\": \"It\\u2019s a very easy process to buy tyres from [REDACTED] .... You are given a wide choice at really good prices and are guided to where they can be put on your car and an appointment set up . There are no hidden charges ... it really is good .\",\n",
            "        \"aspects\": \"Relevent Aspect are:extra charges,value for money,ease of booking\"\n",
            "    },\n",
            "    {\n",
            "        \"review\": \"Easy process but problems with booking a fitting appointment. The website made it easy to find the correct tyre specifications for my vehicle, and to place the order. I was offered a number of fitting options and chose ATS tyres, then selected a time slot to suit my convenience. Unfortunately the time slot I selected was not available at ATS and I had to wait a further two days for a convenient time, at which point the tyres were fitted quickly and professionally. Would have given five stars apart from being offered a fitting time that they couldn't honour.\",\n",
            "        \"aspects\": \"Relevent Aspect are:change of time,ease of booking,length of fitting\"\n",
            "    },\n",
            "    {\n",
            "        \"review\": \"Very good price. Easy to arrange appointment at a convenient time with a local supplier.\",\n",
            "        \"aspects\": \"Relevent Aspect are:location,ease of booking,value for money\"\n",
            "    },\n",
            "    {\n",
            "        \"review\": \"Arrived on time, excellent introduction, superb swift service and not a mark put on the wheels.\",\n",
            "        \"aspects\": \"Relevent Aspect are:delivery punctuality,length of fitting,garage service\"\n",
            "    },\n",
            "    {\n",
            "        \"review\": \"Extremely impressed with the tyre quality, price was unbeatable and fitted for free at a garage near by. Beats commercial mainstreet tyre outlets that try to find half a dozen other things that need doing when you havent even asked them! Have used [REDACTED] before and woulnt even bother with anyone else. Highly recommended.\",\n",
            "        \"aspects\": \"Relevent Aspect are:tyre quality,value for money,location\"\n",
            "    },\n",
            "    {\n",
            "        \"review\": \"Good price, easy to arrange, good fitter\",\n",
            "        \"aspects\": \"Relevent Aspect are:value for money,ease of booking,garage service\"\n",
            "    },\n",
            "    {\n",
            "        \"review\": \"Great service and price from [REDACTED] let down by fitters. [REDACTED] price was by far the best I could find. While they delivered my tyres on time, their fitting garage had suffered an equipment failure and had to delay the fitting by three days. This is the only reason for me dropping my rating to four stars.\",\n",
            "        \"aspects\": \"Relevent Aspect are:delivery punctuality,garage service,change of date\"\n",
            "    },\n",
            "    {\n",
            "        \"review\": \"It was so easy to pick my tyres, pick a fitting location and book the appointment. The garage in Broadbridge Heath are also very efficient and I didn't have to wait long for my tyres to be fitted.\",\n",
            "        \"aspects\": \"Relevent Aspect are:garage service,length of fitting,ease of booking\"\n",
            "    },\n",
            "    {\n",
            "        \"review\": \"It was very easy to find the tyres that I wanted on the [REDACTED] website and to place the order at a convenient garage. On the day, the tyres had been delivered and were ready for fitting. The garage said that the car would be ready for collection in an hour and it was. I wouldn't hesitate to use this service again.\",\n",
            "        \"aspects\": \"Relevent Aspect are:ease of booking,delivery punctuality,wait time\"\n",
            "    },\n",
            "    {\n",
            "        \"review\": \"I had a issue with a delay of the fitting due a stock problem but I was notified in advance and the booking was rearranged for me. Everything ran smooth after that and i cannot fault the customer service and communication. I was given a good will gesture also which was a nice touch to a already good price. I will definatley use [REDACTED] again as issues somtimes arise and they dealt with it well in my case .\",\n",
            "        \"aspects\": \"Relevent Aspect are:no stock,change of date,advisor/agent service\"\n",
            "    },\n",
            "    {\n",
            "        \"review\": \"Ok service overall and good customer service from contact centre advisor. However poor customer journey because I was allowed to pick a date for fitting and then told next day this wasn\\u2019t available and then took 3/4 days to finally get a date for fitting. Tried to arrange this through email with agent but response was very slow and ended up having to call and arrange new appointment\",\n",
            "        \"aspects\": \"Relevent Aspect are:advisoragent service,response time,ease of booking\"\n",
            "    },\n",
            "    {\n",
            "        \"review\": \"I could not fault either the service I received or the speed and quality of fitting....first class all around, highly recommended to anyone not aware of [REDACTED] value for money and customer care!\",\n",
            "        \"aspects\": \"Relevent Aspect are:value for money,advisoragent service,garage service\"\n",
            "    },\n",
            "    {\n",
            "        \"review\": \"Excellent service took on time and a quick turn around with good quality work\",\n",
            "        \"aspects\": \"Relevent Aspect are:wait time,length of fitting,garage service\"\n",
            "    },\n",
            "    {\n",
            "        \"review\": \"i ordered 2 tyres from [REDACTED] very reasonable price and a few extra quid to fit at a local garage, garage very friendly and also put wheel trims back on when i left them in the back. would of been 5 stars but i think it may have been better to pick ur day for fitting and a time as the time i was given was to early i did phone garage and they changed my time to fit me in on the day i booked . will buy again and use the same garage again(tyre and auto).\",\n",
            "        \"aspects\": \"Relevent Aspect are:garage service,ease of booking,value for money\"\n",
            "    },\n",
            "    {\n",
            "        \"review\": \"If I could leave a 0 or minus I would absolutely shocking paid for tyres 3 weeks ago got first fitting date then got cancelled got second fitting date and tyres weren\\u2019t even there [REDACTED] = black mark in my book\",\n",
            "        \"aspects\": \"Relevent Aspect are:delivery punctuality,change of date,ease of booking\"\n",
            "    },\n",
            "    {\n",
            "        \"review\": \"An easy system to use. An easy system to buy very competitively priced tyres fitted close to where you live too. Giving them five stars even though they changed my accepted booking to a day later, then after agreeing that they then moved the fitting time to two hours later. Luckily I was flexible too. However, their communications were excellent.Interested to discover [REDACTED].com and the tyre fitters I chose, ATS, are both owned by Michelin.I would use them again, definitely recommended.\",\n",
            "        \"aspects\": \"Relevent Aspect are:change of time,value for money,location\"\n",
            "    },\n",
            "    {\n",
            "        \"review\": \"So convenient, easily found the right tyre at a great cost and the local garage that fitted them (Xhail Motors) were brilliantly efficient. Thank you, I'll be back!\",\n",
            "        \"aspects\": \"Relevent Aspect are:garage service,length of fitting,location\"\n",
            "    },\n",
            "    {\n",
            "        \"review\": \"The tyres aren\\u2019t great, and it took an hour and a half to fit 2 tyres.It seems they had the new guy doing it, and \\u2018compressor issues\\u2019.Will probably use [REDACTED] again, but not the garage.\",\n",
            "        \"aspects\": \"Relevent Aspect are:tyre quality,garage service,length of fitting\"\n",
            "    },\n",
            "    {\n",
            "        \"review\": \"The purchase of the tyres was easy and simple and the tyres I choose were a good price however, the garage for the fitting was not good. The original booking was cancelled then booked again and that was cancelled then had to wait 2 weeks to get a date when I wasn't working and they could fit the tyres. When we actually went to get them done the garage was very quiet and kindly didn't inflate one of the tyres correctly so that evening when driving the car I had t ore inflate one of them to the correct pressure. Garage bad, tyres good.\",\n",
            "        \"aspects\": \"Relevent Aspect are:ease of booking,value for money,change of date\"\n",
            "    }\n",
            "]\n"
          ]
        }
      ],
      "source": [
        "import random\n",
        "import json\n",
        "\n",
        "def create_json_data(df, num_samples=5):\n",
        "    \"\"\"\n",
        "    Creates JSON data from a DataFrame with 'Text', 'subtheme1', 'subtheme2', and 'subtheme3' columns.\n",
        "    Args:\n",
        "        df (pandas.DataFrame): The DataFrame containing the data.\n",
        "        num_samples (int, optional): The number of random samples to include. Defaults to 5.\n",
        "    Returns:\n",
        "        list: A list of dictionaries, each representing a review with its associated aspects.\n",
        "    \"\"\"\n",
        "    if num_samples > df.shape[0]:\n",
        "        raise ValueError(\"Number of samples cannot exceed the number of available rows.\")\n",
        "    # Filter out empty subthemes\n",
        "    df.replace('', None, inplace=True)\n",
        "    df.dropna(subset=['subtheme1', 'subtheme2', 'subtheme3','Text'], inplace=True)\n",
        "    # Select random samples\n",
        "    random_indices = random.sample(range(df.shape[0]), num_samples)\n",
        "    # Filter DataFrame based on selected indices\n",
        "    sampled_df = df.iloc[random_indices]\n",
        "\n",
        "    # Create JSON data\n",
        "    json_data = []\n",
        "    for index, row in sampled_df.iterrows():\n",
        "        review = row[\"Text\"]\n",
        "        aspects = \"Relevent Aspect are:\"+\",\".join([remove_sentiment_word(aspect) for aspect in [row[\"subtheme1\"], row[\"subtheme2\"], row[\"subtheme3\"]] if aspect is not None])\n",
        "        json_data.append({\"review\": review, \"aspects\": aspects})\n",
        "    return json_data\n",
        "\n",
        "prompt_ex_data = create_json_data(df, num_samples=50)\n",
        "print(json.dumps(prompt_ex_data, indent=4))\n"
      ]
    },
    {
      "cell_type": "code",
      "execution_count": 66,
      "metadata": {
        "colab": {
          "base_uri": "https://localhost:8080/"
        },
        "id": "b3ZFq3N4Ka4L",
        "outputId": "ff4e595c-5622-43b3-a253-886c4af603de"
      },
      "outputs": [
        {
          "name": "stdout",
          "output_type": "stream",
          "text": [
            " Review:The ordering and booking process was straight forward. However the fitting of the tyres was delayed so had to hang around for over 45mins longer than expected. Something beyond [REDACTED] influence.\n",
            "Relevent Aspect are:ease of booking,wait time,wait time\n"
          ]
        }
      ],
      "source": [
        "#define a format that will convert examples into string for llm\n",
        "ex_prompt_template=''' Review:{review}\n",
        "{aspects}'''\n",
        "ex_prompt=PromptTemplate(input_variables=['review','aspects'],template=ex_prompt_template)\n",
        "print(ex_prompt.format(**prompt_ex_data[0]))"
      ]
    },
    {
      "cell_type": "code",
      "execution_count": 67,
      "metadata": {
        "id": "Te4Q5ehJVgy8"
      },
      "outputs": [],
      "source": [
        "pr = f'''\n",
        "We are analyzing Garage data to extract aspects for subtheme sentiment analysis. The goal is to identify key aspects **(subthemes)**\n",
        "relevant to the reviewer's experience. Here are some common examples:\n",
        "{more_one.keys()}\n",
        "However, don't limit yourself to these examples! Feel free to capture other relevant themes that reveal\n",
        "the reviewer's thoughts and feelings about the **product, service, staff, environment, etc.** Remember, you're looking for insightful\n",
        " aspects that paint a complete picture of the reviewer's experience.\n",
        "**Additionally, consider the following factors:**\n",
        "* The reviewer's sentiment\n",
        "* Potential correlations between subthemes (e.g., value for money and positive garage service)\n",
        "* Specific aspects relevant to domain (e.g., tire quality, balancing, etc.)\n",
        "** return all the relevent aspects(subtheme) in list**\n",
        "'''"
      ]
    },
    {
      "cell_type": "code",
      "execution_count": 67,
      "metadata": {
        "id": "gPvhynWp3OOT"
      },
      "outputs": [],
      "source": []
    },
    {
      "cell_type": "code",
      "execution_count": 68,
      "metadata": {
        "colab": {
          "base_uri": "https://localhost:8080/"
        },
        "id": "KxLktza_TNfw",
        "outputId": "97e65fc8-33a8-4cfc-c336-e93a7908a092"
      },
      "outputs": [
        {
          "name": "stdout",
          "output_type": "stream",
          "text": [
            "\n",
            "We are analyzing Garage data to extract aspects for subtheme sentiment analysis. The goal is to identify key aspects **(subthemes)**\n",
            "relevant to the reviewer's experience. Here are some common examples:\n",
            "dict_keys(['value for money', 'failed payment', 'response time', 'advisor/agent service', 'discount not applied', 'tyre agedot code', \"mobile fitter didn't arrive\", 'change of date', 'extra charges', 'garage service', 'change of time', 'refund', 'incorrect tyres sent', 'discounts', 'facilities', 'booking confusion', 'call wait time', 'wait time', 'refund timescale', 'late notice', 'refund not actioned', 'length of fitting', 'damage', 'tyre quality', 'no stock', 'ease of booking', 'balancing', 'tyre age/dot code', 'mobile fitter', 'location', 'advisoragent service', 'delivery punctuality'])\n",
            "However, don't limit yourself to these examples! Feel free to capture other relevant themes that reveal\n",
            "the reviewer's thoughts and feelings about the **product, service, staff, environment, etc.** Remember, you're looking for insightful\n",
            " aspects that paint a complete picture of the reviewer's experience.\n",
            "**Additionally, consider the following factors:**\n",
            "* The reviewer's sentiment\n",
            "* Potential correlations between subthemes (e.g., value for money and positive garage service)\n",
            "* Specific aspects relevant to domain (e.g., tire quality, balancing, etc.)\n",
            "** return all the relevent aspects(subtheme) in list**\n",
            "\n",
            "\n",
            " Review:The ordering and booking process was straight forward. However the fitting of the tyres was delayed so had to hang around for over 45mins longer than expected. Something beyond [REDACTED] influence.\n",
            "Relevent Aspect are:ease of booking,wait time,wait time\n",
            "\n",
            " Review:[REDACTED] is an excellent service. The tyre choice is comprehensive, the prices rarely bettered, and the local fitting deals (Wiltshire Tyres in Melksham in my case) work competently and efficiently. Don't have any doubts about sourcing tyres this way.\n",
            "Relevent Aspect are:value for money,length of fitting,garage service\n",
            "\n",
            " Review:It was so easy , from ordering to arranging fitting a kind of one stop shop even getting to pick a time slot for fitting absolutely brilliant. Also extremely good prices\n",
            "Relevent Aspect are:location,value for money,ease of booking\n",
            "\n",
            " Review:Was taken at time booked and job finished within 30 minutes. Easy easy and good value. Pleasant staff\n",
            "Relevent Aspect are:ease of booking,length of fitting,value for money\n",
            "\n",
            " Review:[REDACTED] were efficient & courteous, however, 3 things let them down.1. The original date that was booked had to be changed2. The original tyre that I chose from the website had an incorrect speed rating for my car (should have been Y but website showed X).3. The quality of the garage that carried out the tyre change was a poorly run (back street type) garage where the housekeeping within was so poor that it was bordering on a dangerous environment to work in.\n",
            "Relevent Aspect are:change of date,garage service,facilities\n",
            "\n",
            " Review:Slight hick-up getting all four tyres for delivery. Fitting date missed twice. However [REDACTED] kept me updated of the problem causing the delay. Mobile fitter used was excellent (appeared when advised, polite and efficient).\n",
            "Relevent Aspect are:length of fitting,mobile fitter,delivery punctuality\n",
            "\n",
            " Review:Web-site was easy to navigate and order the tyres with a good choice of local fitting centres. I purchased two top range tyres for a good price and my chosen fitting centre fitted them at the time and date I chose without any additional fees. Will use again.\n",
            "Relevent Aspect are:location,tyre quality,value for money\n",
            "\n",
            " Review:I have used this company several times mainly because if their competitive prices, however once I have ordered my tyres and paid for them and booked my fitting time I believe that all is good , however as has happened today for my fitting tomorrow I have just had a cancellation email as the tyres haven’t been sent to the garage.This seems to be a common problem going by other reviews so my question is how can they be so incompetent, it should be simple , customer orders tyres, they should be delivered to relevant garage to be fitted...simple. But once again they have failed me ( I don’t think I will use them again and would not recommend them) other issues I’ve previously had were booked into a garage for a Saturday appointment when the garage didn’t open on a Saturday and another appointment was cancelled because they didn’t have enough fitters!\n",
            "Relevent Aspect are:late notice,delivery punctuality,value for money\n",
            "\n",
            " Review:The website was so easy to use and I managed to find a local garage to fit a new tyre for a very competitive price. I was very relieved as other tyre companies couldn’t even find a tyre to fit as the car was a 2019 number plate . When they did I had to wait a week for a tyre to be delivered! Not good when you have only 3 useable tyres . The garage I went to next day were friendly and really good. The receptionist was so welcoming and even made me a cup of tea while I waited. Will definitely use them again and [REDACTED]\n",
            "Relevent Aspect are:location,value for money,garage service\n",
            "\n",
            " Review:I looked at the [REDACTED] website and it seemed ideal - very competitive price , very local fitting and appeared that I could get my tyre replaced very quickly.I'd got a puncture on Saturday night so on Monday i tried to ge ta new tyre - the [REDACTED] website said first available date wednesday -i thought this was reasonable as i have had difficulty sourcing tyres before - I picked a very local garage and it came up with virtually every time slot available - I picked one and received an email with booking reference etc.... I assumed this meant it was booked.The next day I received an email and text saying to contact [REDACTED] urgently - which I did - I was told I couldn't have the appointment I had booked and on asking for an alternative appointment that day I was told there were NONE available - they were fully booked. I asked why I had received an email and was told that isn't a confirmation!I was then told I could have an appointment on Thurs at ANY time - I opted for 11:00am although I could have done any time... I was contacted about 10mins later to be told there were NO appointments for the WHOLE of thursday... why offer me any time iwanted if i wasn't able to get any appointment ??By this time I just wished I'd never paid for the tyre and had tried elsewhere - I was then told I could have any time Friday!! I said I was working on Friday and wouldn't be able to ge tto the garage until 15:30....they shut at 16.00! ...but I was told I could have that time.I arrived at the garage early and they said they could do my tyre now...but when they went to look they said they didn't think the tyre had come as there was nothing in my name...As I was about to explode they said they had a tyre not in my name that they could fit now.After explaining my frustrating experience to the guy in the garage he said if i'd called them directly on Monday - they could have done it that afternoon!!!!... although they probably couldn't compete with the price - he looked for me and it would have cost £6 more!!! I probably would have paid £40 more!! NOT because i wanted to but for the convenience and lack of stress i had to endure dealing with [REDACTED].If in the beginning I'd been told i couldn't have it done until Friday i would have been frustrated but it would have been my choice wether i continued with the purchase or went elsewhere - but to be mucked about and having to reschedule appointments etc....i DEFINITELY will NOT be using them again or be recommending them to anyone else\n",
            "Relevent Aspect are:change of date,delivery punctuality,garage service\n",
            "\n",
            " Review:The online experience was very straightforward, the prices were competitive, and the delivery/fitting was efficiently carried out.\n",
            "Relevent Aspect are:garage service,value for money,delivery punctuality\n",
            "\n",
            " Review:I wanted tyres for a trailer and using [REDACTED] gave me the time and ability to choose exactly what I wanted and fitted by a trusted local company, without being persuaded to have what's in stock. All at an excellent price.\n",
            "Relevent Aspect are:value for money,location,garage service\n",
            "\n",
            " Review:Great pricing, and a excellent range to choose from. Found a local garage to fit them, at at convenient time. Had absolutely no problems. Website is easy to navigate and payment steps were nice and simple. 10/10.\n",
            "Relevent Aspect are:location,ease of booking,value for money\n",
            "\n",
            " Review:It allows you to take your time and compare different tyres in your own time without any pressure. Good deals and easy to book with large selection of local garages.\n",
            "Relevent Aspect are:location,value for money,ease of booking\n",
            "\n",
            " Review:Lots of choice of tyres on the site and I was able to choose the fitter I wanted. Tyres were waiting at the fitters as promised and the time slot I was given was stuck to. Can't fault the service so far. Car is running well with four new tyres.\n",
            "Relevent Aspect are:ease of booking,delivery punctuality,wait time\n",
            "\n",
            " Review:Good local partner for fitting and competitive pricing\n",
            "Relevent Aspect are:location,value for money,garage service\n",
            "\n",
            " Review:A great all round service. Easy to book online and pick a time preference. Arrived within the time scale that was allocated and promptly changed the tyres whilst the car was on our drive! The technician was friendly, knowledgeable and offered useful practical advice! Would definitely use again.\n",
            "Relevent Aspect are:ease of booking,mobile fitter,wait time\n",
            "\n",
            " Review:Hassle free booking from home.Good price.Fitted in good time on the date required.\n",
            "Relevent Aspect are:ease of booking,value for money,wait time\n",
            "\n",
            " Review:Excellent service from start to finish. Would highly recommend, with their fitting service included it’s hard to find a better price for tyres, fitting balancing and disposal of old.\n",
            "Relevent Aspect are:extra charges,garage service,value for money\n",
            "\n",
            " Review:Great price and a professional local fitter. Hard to find fault with [REDACTED]\n",
            "Relevent Aspect are:location,value for money,garage service\n",
            "\n",
            " Review:Always excellent pricing and good delivery times, so convenient that I can get fitting at my regular garage also.\n",
            "Relevent Aspect are:garage service,value for money,delivery punctuality\n",
            "\n",
            " Review:Competitive prices. Easy transaction and choice of location for fitting.\n",
            "Relevent Aspect are:value for money,location,ease of booking\n",
            "\n",
            " Review:[REDACTED] was easy to use on the website - type in your car and it tells you the tyres you need, even on the transferred plate. The price was good, the garage was close and the time was quick.\n",
            "Relevent Aspect are:length of fitting,location,value for money\n",
            "\n",
            " Review:Everything the present day consumer expects. Swift, painless and economic. Everything the present day consumer asks for. I chose my local ATS garage for location rather than anything else, but that was also a great experience. My tyres were removed, shifted to the rear and new tyres fitted within about 40 minutes, which included completing paperwork, having a coffee, checking my emails and chatting to the knowledgable and really friendly and professional service advisors. A genuine top drawer experience. And of course the price and choice of tyres was the key to my decision for choosing [REDACTED].\n",
            "Relevent Aspect are:value for money,garage service,location\n",
            "\n",
            " Review:A simple process to order your tyres, book a local fitter and get the best price. Works very well.\n",
            "Relevent Aspect are:location,value for money,ease of booking\n",
            "\n",
            " Review:Local fitting agent quite slow.\n",
            "Relevent Aspect are:length of fitting,location,length of fitting\n",
            "\n",
            " Review:Excellent idea, what's not to like. You get the price before you get them fitted and then arrange to have the tyres fitted locally. Great service and very easy to use.\n",
            "Relevent Aspect are:value for money,ease of booking,location\n",
            "\n",
            " Review:Cheapest option around and quick delivery and easiest possible tyre fitters nearby. Delighted.\n",
            "Relevent Aspect are:location,value for money,delivery punctuality\n",
            "\n",
            " Review:Excellent service. I needed to change the fitting date and a quick call and it was all sorted and confirmed with an email. Fitting was done on time, price was competitive. Thank you. Will definitely use you again and have recommended to friend at work\n",
            "Relevent Aspect are:value for money,advisoragent service,wait time\n",
            "\n",
            " Review:Good customer service from McConnechies (local fitter), good prices from [REDACTED].\n",
            "Relevent Aspect are:value for money,location,garage service\n",
            "\n",
            " Review:[REDACTED] as a company was very good to deal with, especially when I got the order wrong.However, they need to be more selective with their fitting partners. Both my wheels had paint gouged off when removing and re fitting new tyres. Poor equipment and badly maintained.\n",
            "Relevent Aspect are:ease of booking,advisor/agent service,damage\n",
            "\n",
            " Review:It’s a very easy process to buy tyres from [REDACTED] .... You are given a wide choice at really good prices and are guided to where they can be put on your car and an appointment set up . There are no hidden charges ... it really is good .\n",
            "Relevent Aspect are:extra charges,value for money,ease of booking\n",
            "\n",
            " Review:Easy process but problems with booking a fitting appointment. The website made it easy to find the correct tyre specifications for my vehicle, and to place the order. I was offered a number of fitting options and chose ATS tyres, then selected a time slot to suit my convenience. Unfortunately the time slot I selected was not available at ATS and I had to wait a further two days for a convenient time, at which point the tyres were fitted quickly and professionally. Would have given five stars apart from being offered a fitting time that they couldn't honour.\n",
            "Relevent Aspect are:change of time,ease of booking,length of fitting\n",
            "\n",
            " Review:Very good price. Easy to arrange appointment at a convenient time with a local supplier.\n",
            "Relevent Aspect are:location,ease of booking,value for money\n",
            "\n",
            " Review:Arrived on time, excellent introduction, superb swift service and not a mark put on the wheels.\n",
            "Relevent Aspect are:delivery punctuality,length of fitting,garage service\n",
            "\n",
            " Review:Extremely impressed with the tyre quality, price was unbeatable and fitted for free at a garage near by. Beats commercial mainstreet tyre outlets that try to find half a dozen other things that need doing when you havent even asked them! Have used [REDACTED] before and woulnt even bother with anyone else. Highly recommended.\n",
            "Relevent Aspect are:tyre quality,value for money,location\n",
            "\n",
            " Review:Good price, easy to arrange, good fitter\n",
            "Relevent Aspect are:value for money,ease of booking,garage service\n",
            "\n",
            " Review:Great service and price from [REDACTED] let down by fitters. [REDACTED] price was by far the best I could find. While they delivered my tyres on time, their fitting garage had suffered an equipment failure and had to delay the fitting by three days. This is the only reason for me dropping my rating to four stars.\n",
            "Relevent Aspect are:delivery punctuality,garage service,change of date\n",
            "\n",
            " Review:It was so easy to pick my tyres, pick a fitting location and book the appointment. The garage in Broadbridge Heath are also very efficient and I didn't have to wait long for my tyres to be fitted.\n",
            "Relevent Aspect are:garage service,length of fitting,ease of booking\n",
            "\n",
            " Review:It was very easy to find the tyres that I wanted on the [REDACTED] website and to place the order at a convenient garage. On the day, the tyres had been delivered and were ready for fitting. The garage said that the car would be ready for collection in an hour and it was. I wouldn't hesitate to use this service again.\n",
            "Relevent Aspect are:ease of booking,delivery punctuality,wait time\n",
            "\n",
            " Review:I had a issue with a delay of the fitting due a stock problem but I was notified in advance and the booking was rearranged for me. Everything ran smooth after that and i cannot fault the customer service and communication. I was given a good will gesture also which was a nice touch to a already good price. I will definatley use [REDACTED] again as issues somtimes arise and they dealt with it well in my case .\n",
            "Relevent Aspect are:no stock,change of date,advisor/agent service\n",
            "\n",
            " Review:Ok service overall and good customer service from contact centre advisor. However poor customer journey because I was allowed to pick a date for fitting and then told next day this wasn’t available and then took 3/4 days to finally get a date for fitting. Tried to arrange this through email with agent but response was very slow and ended up having to call and arrange new appointment\n",
            "Relevent Aspect are:advisoragent service,response time,ease of booking\n",
            "\n",
            " Review:I could not fault either the service I received or the speed and quality of fitting....first class all around, highly recommended to anyone not aware of [REDACTED] value for money and customer care!\n",
            "Relevent Aspect are:value for money,advisoragent service,garage service\n",
            "\n",
            " Review:Excellent service took on time and a quick turn around with good quality work\n",
            "Relevent Aspect are:wait time,length of fitting,garage service\n",
            "\n",
            " Review:i ordered 2 tyres from [REDACTED] very reasonable price and a few extra quid to fit at a local garage, garage very friendly and also put wheel trims back on when i left them in the back. would of been 5 stars but i think it may have been better to pick ur day for fitting and a time as the time i was given was to early i did phone garage and they changed my time to fit me in on the day i booked . will buy again and use the same garage again(tyre and auto).\n",
            "Relevent Aspect are:garage service,ease of booking,value for money\n",
            "\n",
            " Review:If I could leave a 0 or minus I would absolutely shocking paid for tyres 3 weeks ago got first fitting date then got cancelled got second fitting date and tyres weren’t even there [REDACTED] = black mark in my book\n",
            "Relevent Aspect are:delivery punctuality,change of date,ease of booking\n",
            "\n",
            " Review:An easy system to use. An easy system to buy very competitively priced tyres fitted close to where you live too. Giving them five stars even though they changed my accepted booking to a day later, then after agreeing that they then moved the fitting time to two hours later. Luckily I was flexible too. However, their communications were excellent.Interested to discover [REDACTED].com and the tyre fitters I chose, ATS, are both owned by Michelin.I would use them again, definitely recommended.\n",
            "Relevent Aspect are:change of time,value for money,location\n",
            "\n",
            " Review:So convenient, easily found the right tyre at a great cost and the local garage that fitted them (Xhail Motors) were brilliantly efficient. Thank you, I'll be back!\n",
            "Relevent Aspect are:garage service,length of fitting,location\n",
            "\n",
            " Review:The tyres aren’t great, and it took an hour and a half to fit 2 tyres.It seems they had the new guy doing it, and ‘compressor issues’.Will probably use [REDACTED] again, but not the garage.\n",
            "Relevent Aspect are:tyre quality,garage service,length of fitting\n",
            "\n",
            " Review:The purchase of the tyres was easy and simple and the tyres I choose were a good price however, the garage for the fitting was not good. The original booking was cancelled then booked again and that was cancelled then had to wait 2 weeks to get a date when I wasn't working and they could fit the tyres. When we actually went to get them done the garage was very quiet and kindly didn't inflate one of the tyres correctly so that evening when driving the car I had t ore inflate one of them to the correct pressure. Garage bad, tyres good.\n",
            "Relevent Aspect are:ease of booking,value for money,change of date\n",
            "\n",
            "Review: Excellent value for money ,big saving over other companies.Quick efficient local fitting service/n\n"
          ]
        }
      ],
      "source": [
        "final_prompt=FewShotPromptTemplate(\n",
        "    examples=prompt_ex_data,\n",
        "    example_prompt=ex_prompt,\n",
        "    input_variables=['review'],\n",
        "    suffix=\"Review: {review}/n\",\n",
        "    prefix=pr\n",
        ")\n",
        "print(final_prompt.format(review=\"Excellent value for money ,big saving over other companies.Quick efficient local fitting service\"))"
      ]
    },
    {
      "cell_type": "code",
      "execution_count": 69,
      "metadata": {
        "colab": {
          "base_uri": "https://localhost:8080/"
        },
        "id": "kd-8cDTbaUIZ",
        "outputId": "9b9637fb-76b9-48be-ac6c-10271afdbb61"
      },
      "outputs": [
        {
          "name": "stdout",
          "output_type": "stream",
          "text": [
            "['ease of booking', 'wait time', 'wait time', 'length of fitting', 'garage service', 'delivery punctuality', 'location', 'tyre quality', 'value for money', 'garage service', 'facilities', 'mobile fitter', 'delivery punctuality', 'length of fitting', 'mobile fitter', 'location', 'advisoragent service', 'change of date', 'garage service', 'facilities', 'late notice', 'delivery punctuality', 'value for money', 'garage service', 'location', 'tyre quality', 'value for money', 'change of date', 'delivery punctuality', 'garage service', 'length of fitting', 'garage service', 'value for money', 'delivery punctuality', 'wait time', 'location', 'value for money', 'ease of booking', 'location', 'value for money', 'ease of booking', 'location', 'value for money', 'garage service', 'mobile fitter', 'wait time', 'location', 'value for money', 'garage service', 'extra charges', 'garage service', 'value for money', 'location', 'value for money', 'ease of booking', 'length of fitting', 'location', 'length of fitting', 'value for money', 'ease of booking', 'location', 'value for money', 'delivery punctuality', 'location', 'value for money', 'ease of booking', 'length of fitting', 'value for money', 'advisoragent service', 'wait time', 'location', 'value for money', 'garage service', 'damage', 'ease of booking', 'value for money', 'location', 'value for money', 'ease of booking', 'length of fitting', 'garage service', 'delivery punctuality', 'wait time', 'value for money', 'advisor/agent service', 'response time', 'value for money', 'advisoragent service', 'garage service', 'wait time', 'length of fitting', 'garage service', 'ease of booking', 'delivery punctuality', 'wait time', 'no stock', 'change of date', 'advisor/agent service', 'ease of booking', 'delivery punctuality', 'change of date', 'garage service', 'length of fitting', 'location', 'value for money', 'tyre quality', 'garage service', 'ease of booking', 'value for money', 'change of time', 'value for money', 'location', 'garage service', 'length of fitting', 'delivery punctuality', 'wait time', 'advisoragent service', 'length of fitting', 'garage service', 'value for money', 'ease of booking', 'delivery punctuality', 'change of date', 'ease of booking', 'tyre quality', 'value for money', 'location']\n"
          ]
        }
      ],
      "source": [
        "aspects_ext_chain=LLMChain(llm=llm,prompt=final_prompt,output_key='aspects')\n",
        "out=aspects_ext_chain.predict(review=\"Excellent value for money ,big saving over other companies.Quick efficient local fitting service\")\n",
        "print(out)"
      ]
    },
    {
      "cell_type": "markdown",
      "metadata": {
        "id": "hA_IU-nBckrp"
      },
      "source": [
        "# Sentiment Analysis Chain"
      ]
    },
    {
      "cell_type": "code",
      "execution_count": 70,
      "metadata": {
        "id": "oR0NmAeOcjhf"
      },
      "outputs": [],
      "source": [
        "#here we can use any llm as we have subtheme\n",
        "# llm=OpenAI()\n",
        "llm = ChatGoogleGenerativeAI(model=\"gemini-pro\")"
      ]
    },
    {
      "cell_type": "code",
      "execution_count": 71,
      "metadata": {
        "colab": {
          "base_uri": "https://localhost:8080/"
        },
        "id": "kf-BnL1ceeJh",
        "outputId": "621243f3-683b-48b9-deca-e402d41f7968"
      },
      "outputs": [
        {
          "name": "stdout",
          "output_type": "stream",
          "text": [
            "input_variables=['aspects', 'review'] template=\"Given Review and subthemes which is extracted aspects from the given review you have to give each\\naspect with their sentiment class like 'positive','negative' in a format like (aspect,sentiment).\\nbefore giving sentiment carefully analyze customers point of view.\\nReview:{review}\\nAspects:{aspects}\\n[(aspect1,sentiment of aspect1),(aspect2,sentiment of aspect2),(aspect3,sentiment of aspect3)]\\n\"\n"
          ]
        }
      ],
      "source": [
        "sent_prompt='''Given Review and subthemes which is extracted aspects from the given review you have to give each\n",
        "aspect with their sentiment class like 'positive','negative' in a format like (aspect,sentiment).\n",
        "before giving sentiment carefully analyze customers point of view.\n",
        "Review:{review}\n",
        "Aspects:{aspects}\n",
        "[(aspect1,sentiment of aspect1),(aspect2,sentiment of aspect2),(aspect3,sentiment of aspect3)]\n",
        "'''\n",
        "sent_prompt_final=PromptTemplate(input_variables=['review','aspects'],template=sent_prompt)\n",
        "print(sent_prompt_final)"
      ]
    },
    {
      "cell_type": "code",
      "execution_count": 72,
      "metadata": {
        "id": "Jl747b4mf0Wn"
      },
      "outputs": [],
      "source": [
        "sent_chain=LLMChain(llm=llm,prompt=sent_prompt_final,output_key='aspects_with_sentiment')"
      ]
    },
    {
      "cell_type": "markdown",
      "metadata": {
        "id": "0rWm_JRahFQG"
      },
      "source": [
        "**Final Sequential Chain**"
      ]
    },
    {
      "cell_type": "code",
      "execution_count": 73,
      "metadata": {
        "id": "EepodrEBhLLr"
      },
      "outputs": [],
      "source": [
        "subtheme_chain=SequentialChain(\n",
        "    chains=[aspects_ext_chain,sent_chain],\n",
        "    input_variables=['review'],\n",
        "    output_variables=['review','aspects','aspects_with_sentiment'],\n",
        "    verbose=False\n",
        ")"
      ]
    },
    {
      "cell_type": "code",
      "execution_count": 74,
      "metadata": {
        "colab": {
          "base_uri": "https://localhost:8080/"
        },
        "id": "tERoSL2AiA54",
        "outputId": "9128dbe5-7297-47fe-d299-cec209d358e6"
      },
      "outputs": [
        {
          "name": "stdout",
          "output_type": "stream",
          "text": [
            "{'review': 'Excellent value for money ,big saving over other companies.Quick efficient local fitting service', 'aspects': '* ease of booking\\n* wait time\\n* wait time\\n* value for money\\n* length of fitting\\n* garage service\\n* location\\n* tyre quality\\n* value for money\\n* location\\n* ease of booking\\n* length of fitting\\n* value for money\\n* change of date\\n* garage service\\n* facilities\\n* length of fitting\\n* mobile fitter\\n* delivery punctuality\\n* location\\n* tyre quality\\n* value for money\\n* late notice\\n* delivery punctuality\\n* value for money\\n* location\\n* garage service\\n* facilities\\n* change of date\\n* delivery punctuality\\n* garage service\\n* value for money\\n* delivery punctuality\\n* garage service\\n* location\\n* value for money\\n* ease of booking\\n* location\\n* value for money\\n* ease of booking\\n* garage service\\n* value for money\\n* delivery punctuality\\n* location\\n* value for money\\n* garage service\\n* ease of booking\\n* mobile fitter\\n* wait time\\n* extra charges\\n* garage service\\n* value for money\\n* location\\n* value for money\\n* ease of booking\\n* length of fitting\\n* location\\n* length of fitting\\n* value for money\\n* ease of booking\\n* location\\n* value for money\\n* delivery punctuality\\n* garage service\\n* value for money\\n* advisoragent service\\n* wait time\\n* value for money\\n* location\\n* garage service\\n* damage\\n* extra charges\\n* value for money\\n* ease of booking\\n* delivery punctuality\\n* length of fitting\\n* garage service\\n* tyre quality\\n* value for money\\n* location\\n* value for money\\n* ease of booking\\n* garage service\\n* delivery punctuality\\n* change of date\\n* garage service\\n* length of fitting\\n* ease of booking\\n* delivery punctuality\\n* wait time\\n* garage service\\n* length of fitting\\n* ease of booking\\n* no stock\\n* change of date\\n* advisor/agent service\\n* response time\\n* value for money\\n* advisoragent service\\n* garage service\\n* wait time\\n* length of fitting\\n* garage service\\n* value for money\\n* ease of booking\\n* delivery punctuality\\n* change of date\\n* ease of booking\\n* change of time\\n* value for money\\n* garage service\\n* length of fitting\\n* location\\n* tyre quality\\n* garage service\\n* length of fitting\\n* delivery punctuality\\n* change of date\\n* ease of booking', 'aspects_with_sentiment': '[(value for money, positive), (ease of booking, positive), (garage service, positive)]'}\n"
          ]
        }
      ],
      "source": [
        "input={\"review\":\"Excellent value for money ,big saving over other companies.Quick efficient local fitting service\"}\n",
        "out=subtheme_chain(input)\n",
        "print(out)"
      ]
    },
    {
      "cell_type": "code",
      "execution_count": 75,
      "metadata": {
        "colab": {
          "base_uri": "https://localhost:8080/",
          "height": 35
        },
        "id": "YOO-48ayCNhB",
        "outputId": "71feb476-bbfc-4969-96be-84f6e684fbce"
      },
      "outputs": [
        {
          "data": {
            "application/vnd.google.colaboratory.intrinsic+json": {
              "type": "string"
            },
            "text/plain": [
              "'[(value for money, positive), (ease of booking, positive), (garage service, positive)]'"
            ]
          },
          "execution_count": 75,
          "metadata": {},
          "output_type": "execute_result"
        }
      ],
      "source": [
        "out['aspects_with_sentiment']"
      ]
    },
    {
      "cell_type": "markdown",
      "metadata": {
        "id": "LQlO66Qurbcn"
      },
      "source": [
        "# Final Testing"
      ]
    },
    {
      "cell_type": "code",
      "execution_count": 76,
      "metadata": {
        "colab": {
          "base_uri": "https://localhost:8080/",
          "height": 206
        },
        "id": "OSc6v0AH1ina",
        "outputId": "ef603357-5998-4c6c-86a6-8f2d59cc0481"
      },
      "outputs": [
        {
          "data": {
            "application/vnd.google.colaboratory.intrinsic+json": {
              "summary": "{\n  \"name\": \"df2\",\n  \"rows\": 10,\n  \"fields\": [\n    {\n      \"column\": \"Text\",\n      \"properties\": {\n        \"dtype\": \"string\",\n        \"samples\": [\n          \"The prices are competitive and the local garage provides great service.\",\n          \"service was excellent. Only slight downside was not knowing exact time at garage although the garage were so quick so I wasn't delayed\",\n          \"[REDACTED]' website was easy to use, gave clear options for tyres suitable for my car. Tyres are good value for the good quality they are. The staff at the garage I chose were very friendly and flexible to fit my needs.\"\n        ],\n        \"num_unique_values\": 10,\n        \"semantic_type\": \"\",\n        \"description\": \"\"\n      }\n    },\n    {\n      \"column\": \"subtheme1\",\n      \"properties\": {\n        \"dtype\": \"string\",\n        \"samples\": [\n          \"location positive\",\n          \"length of fitting positive\",\n          \"garage service positive\"\n        ],\n        \"num_unique_values\": 6,\n        \"semantic_type\": \"\",\n        \"description\": \"\"\n      }\n    },\n    {\n      \"column\": \"subtheme2\",\n      \"properties\": {\n        \"dtype\": \"string\",\n        \"samples\": [\n          \"value for money positive\",\n          \"ease of booking positive\",\n          \"mobile fitter positive\"\n        ],\n        \"num_unique_values\": 6,\n        \"semantic_type\": \"\",\n        \"description\": \"\"\n      }\n    },\n    {\n      \"column\": \"subtheme3\",\n      \"properties\": {\n        \"dtype\": \"string\",\n        \"samples\": [\n          \"ease of booking positive\",\n          \"ease of booking negative\",\n          \"value for money positive\"\n        ],\n        \"num_unique_values\": 7,\n        \"semantic_type\": \"\",\n        \"description\": \"\"\n      }\n    },\n    {\n      \"column\": \"word_count\",\n      \"properties\": {\n        \"dtype\": \"number\",\n        \"std\": 8,\n        \"min\": 11,\n        \"max\": 41,\n        \"samples\": [\n          11,\n          23,\n          41\n        ],\n        \"num_unique_values\": 10,\n        \"semantic_type\": \"\",\n        \"description\": \"\"\n      }\n    }\n  ]\n}",
              "type": "dataframe",
              "variable_name": "df2"
            },
            "text/html": [
              "\n",
              "  <div id=\"df-43330fba-8b09-48c6-8088-2960c8a61a52\" class=\"colab-df-container\">\n",
              "    <div>\n",
              "<style scoped>\n",
              "    .dataframe tbody tr th:only-of-type {\n",
              "        vertical-align: middle;\n",
              "    }\n",
              "\n",
              "    .dataframe tbody tr th {\n",
              "        vertical-align: top;\n",
              "    }\n",
              "\n",
              "    .dataframe thead th {\n",
              "        text-align: right;\n",
              "    }\n",
              "</style>\n",
              "<table border=\"1\" class=\"dataframe\">\n",
              "  <thead>\n",
              "    <tr style=\"text-align: right;\">\n",
              "      <th></th>\n",
              "      <th>Text</th>\n",
              "      <th>subtheme1</th>\n",
              "      <th>subtheme2</th>\n",
              "      <th>subtheme3</th>\n",
              "      <th>word_count</th>\n",
              "    </tr>\n",
              "  </thead>\n",
              "  <tbody>\n",
              "    <tr>\n",
              "      <th>3</th>\n",
              "      <td>It was so easy to select tyre sizes and arrang...</td>\n",
              "      <td>location positive</td>\n",
              "      <td>value for money positive</td>\n",
              "      <td>ease of booking positive</td>\n",
              "      <td>16</td>\n",
              "    </tr>\n",
              "    <tr>\n",
              "      <th>4</th>\n",
              "      <td>service was excellent. Only slight downside wa...</td>\n",
              "      <td>length of fitting positive</td>\n",
              "      <td>ease of booking positive</td>\n",
              "      <td>ease of booking negative</td>\n",
              "      <td>23</td>\n",
              "    </tr>\n",
              "    <tr>\n",
              "      <th>15</th>\n",
              "      <td>Competitively priced and easy to use fitting c...</td>\n",
              "      <td>location positive</td>\n",
              "      <td>value for money positive</td>\n",
              "      <td>garage service positive</td>\n",
              "      <td>14</td>\n",
              "    </tr>\n",
              "    <tr>\n",
              "      <th>30</th>\n",
              "      <td>Easy to use site. Good choice of tyres at a go...</td>\n",
              "      <td>value for money positive</td>\n",
              "      <td>location positive</td>\n",
              "      <td>mobile fitter positive</td>\n",
              "      <td>20</td>\n",
              "    </tr>\n",
              "    <tr>\n",
              "      <th>34</th>\n",
              "      <td>Staff with [REDACTED] went above and beyond to...</td>\n",
              "      <td>ease of booking positive</td>\n",
              "      <td>length of fitting positive</td>\n",
              "      <td>advisor/agent service positive</td>\n",
              "      <td>29</td>\n",
              "    </tr>\n",
              "  </tbody>\n",
              "</table>\n",
              "</div>\n",
              "    <div class=\"colab-df-buttons\">\n",
              "\n",
              "  <div class=\"colab-df-container\">\n",
              "    <button class=\"colab-df-convert\" onclick=\"convertToInteractive('df-43330fba-8b09-48c6-8088-2960c8a61a52')\"\n",
              "            title=\"Convert this dataframe to an interactive table.\"\n",
              "            style=\"display:none;\">\n",
              "\n",
              "  <svg xmlns=\"http://www.w3.org/2000/svg\" height=\"24px\" viewBox=\"0 -960 960 960\">\n",
              "    <path d=\"M120-120v-720h720v720H120Zm60-500h600v-160H180v160Zm220 220h160v-160H400v160Zm0 220h160v-160H400v160ZM180-400h160v-160H180v160Zm440 0h160v-160H620v160ZM180-180h160v-160H180v160Zm440 0h160v-160H620v160Z\"/>\n",
              "  </svg>\n",
              "    </button>\n",
              "\n",
              "  <style>\n",
              "    .colab-df-container {\n",
              "      display:flex;\n",
              "      gap: 12px;\n",
              "    }\n",
              "\n",
              "    .colab-df-convert {\n",
              "      background-color: #E8F0FE;\n",
              "      border: none;\n",
              "      border-radius: 50%;\n",
              "      cursor: pointer;\n",
              "      display: none;\n",
              "      fill: #1967D2;\n",
              "      height: 32px;\n",
              "      padding: 0 0 0 0;\n",
              "      width: 32px;\n",
              "    }\n",
              "\n",
              "    .colab-df-convert:hover {\n",
              "      background-color: #E2EBFA;\n",
              "      box-shadow: 0px 1px 2px rgba(60, 64, 67, 0.3), 0px 1px 3px 1px rgba(60, 64, 67, 0.15);\n",
              "      fill: #174EA6;\n",
              "    }\n",
              "\n",
              "    .colab-df-buttons div {\n",
              "      margin-bottom: 4px;\n",
              "    }\n",
              "\n",
              "    [theme=dark] .colab-df-convert {\n",
              "      background-color: #3B4455;\n",
              "      fill: #D2E3FC;\n",
              "    }\n",
              "\n",
              "    [theme=dark] .colab-df-convert:hover {\n",
              "      background-color: #434B5C;\n",
              "      box-shadow: 0px 1px 3px 1px rgba(0, 0, 0, 0.15);\n",
              "      filter: drop-shadow(0px 1px 2px rgba(0, 0, 0, 0.3));\n",
              "      fill: #FFFFFF;\n",
              "    }\n",
              "  </style>\n",
              "\n",
              "    <script>\n",
              "      const buttonEl =\n",
              "        document.querySelector('#df-43330fba-8b09-48c6-8088-2960c8a61a52 button.colab-df-convert');\n",
              "      buttonEl.style.display =\n",
              "        google.colab.kernel.accessAllowed ? 'block' : 'none';\n",
              "\n",
              "      async function convertToInteractive(key) {\n",
              "        const element = document.querySelector('#df-43330fba-8b09-48c6-8088-2960c8a61a52');\n",
              "        const dataTable =\n",
              "          await google.colab.kernel.invokeFunction('convertToInteractive',\n",
              "                                                    [key], {});\n",
              "        if (!dataTable) return;\n",
              "\n",
              "        const docLinkHtml = 'Like what you see? Visit the ' +\n",
              "          '<a target=\"_blank\" href=https://colab.research.google.com/notebooks/data_table.ipynb>data table notebook</a>'\n",
              "          + ' to learn more about interactive tables.';\n",
              "        element.innerHTML = '';\n",
              "        dataTable['output_type'] = 'display_data';\n",
              "        await google.colab.output.renderOutput(dataTable, element);\n",
              "        const docLink = document.createElement('div');\n",
              "        docLink.innerHTML = docLinkHtml;\n",
              "        element.appendChild(docLink);\n",
              "      }\n",
              "    </script>\n",
              "  </div>\n",
              "\n",
              "\n",
              "<div id=\"df-583be53e-c93d-4637-b33d-dc791cca3e79\">\n",
              "  <button class=\"colab-df-quickchart\" onclick=\"quickchart('df-583be53e-c93d-4637-b33d-dc791cca3e79')\"\n",
              "            title=\"Suggest charts\"\n",
              "            style=\"display:none;\">\n",
              "\n",
              "<svg xmlns=\"http://www.w3.org/2000/svg\" height=\"24px\"viewBox=\"0 0 24 24\"\n",
              "     width=\"24px\">\n",
              "    <g>\n",
              "        <path d=\"M19 3H5c-1.1 0-2 .9-2 2v14c0 1.1.9 2 2 2h14c1.1 0 2-.9 2-2V5c0-1.1-.9-2-2-2zM9 17H7v-7h2v7zm4 0h-2V7h2v10zm4 0h-2v-4h2v4z\"/>\n",
              "    </g>\n",
              "</svg>\n",
              "  </button>\n",
              "\n",
              "<style>\n",
              "  .colab-df-quickchart {\n",
              "      --bg-color: #E8F0FE;\n",
              "      --fill-color: #1967D2;\n",
              "      --hover-bg-color: #E2EBFA;\n",
              "      --hover-fill-color: #174EA6;\n",
              "      --disabled-fill-color: #AAA;\n",
              "      --disabled-bg-color: #DDD;\n",
              "  }\n",
              "\n",
              "  [theme=dark] .colab-df-quickchart {\n",
              "      --bg-color: #3B4455;\n",
              "      --fill-color: #D2E3FC;\n",
              "      --hover-bg-color: #434B5C;\n",
              "      --hover-fill-color: #FFFFFF;\n",
              "      --disabled-bg-color: #3B4455;\n",
              "      --disabled-fill-color: #666;\n",
              "  }\n",
              "\n",
              "  .colab-df-quickchart {\n",
              "    background-color: var(--bg-color);\n",
              "    border: none;\n",
              "    border-radius: 50%;\n",
              "    cursor: pointer;\n",
              "    display: none;\n",
              "    fill: var(--fill-color);\n",
              "    height: 32px;\n",
              "    padding: 0;\n",
              "    width: 32px;\n",
              "  }\n",
              "\n",
              "  .colab-df-quickchart:hover {\n",
              "    background-color: var(--hover-bg-color);\n",
              "    box-shadow: 0 1px 2px rgba(60, 64, 67, 0.3), 0 1px 3px 1px rgba(60, 64, 67, 0.15);\n",
              "    fill: var(--button-hover-fill-color);\n",
              "  }\n",
              "\n",
              "  .colab-df-quickchart-complete:disabled,\n",
              "  .colab-df-quickchart-complete:disabled:hover {\n",
              "    background-color: var(--disabled-bg-color);\n",
              "    fill: var(--disabled-fill-color);\n",
              "    box-shadow: none;\n",
              "  }\n",
              "\n",
              "  .colab-df-spinner {\n",
              "    border: 2px solid var(--fill-color);\n",
              "    border-color: transparent;\n",
              "    border-bottom-color: var(--fill-color);\n",
              "    animation:\n",
              "      spin 1s steps(1) infinite;\n",
              "  }\n",
              "\n",
              "  @keyframes spin {\n",
              "    0% {\n",
              "      border-color: transparent;\n",
              "      border-bottom-color: var(--fill-color);\n",
              "      border-left-color: var(--fill-color);\n",
              "    }\n",
              "    20% {\n",
              "      border-color: transparent;\n",
              "      border-left-color: var(--fill-color);\n",
              "      border-top-color: var(--fill-color);\n",
              "    }\n",
              "    30% {\n",
              "      border-color: transparent;\n",
              "      border-left-color: var(--fill-color);\n",
              "      border-top-color: var(--fill-color);\n",
              "      border-right-color: var(--fill-color);\n",
              "    }\n",
              "    40% {\n",
              "      border-color: transparent;\n",
              "      border-right-color: var(--fill-color);\n",
              "      border-top-color: var(--fill-color);\n",
              "    }\n",
              "    60% {\n",
              "      border-color: transparent;\n",
              "      border-right-color: var(--fill-color);\n",
              "    }\n",
              "    80% {\n",
              "      border-color: transparent;\n",
              "      border-right-color: var(--fill-color);\n",
              "      border-bottom-color: var(--fill-color);\n",
              "    }\n",
              "    90% {\n",
              "      border-color: transparent;\n",
              "      border-bottom-color: var(--fill-color);\n",
              "    }\n",
              "  }\n",
              "</style>\n",
              "\n",
              "  <script>\n",
              "    async function quickchart(key) {\n",
              "      const quickchartButtonEl =\n",
              "        document.querySelector('#' + key + ' button');\n",
              "      quickchartButtonEl.disabled = true;  // To prevent multiple clicks.\n",
              "      quickchartButtonEl.classList.add('colab-df-spinner');\n",
              "      try {\n",
              "        const charts = await google.colab.kernel.invokeFunction(\n",
              "            'suggestCharts', [key], {});\n",
              "      } catch (error) {\n",
              "        console.error('Error during call to suggestCharts:', error);\n",
              "      }\n",
              "      quickchartButtonEl.classList.remove('colab-df-spinner');\n",
              "      quickchartButtonEl.classList.add('colab-df-quickchart-complete');\n",
              "    }\n",
              "    (() => {\n",
              "      let quickchartButtonEl =\n",
              "        document.querySelector('#df-583be53e-c93d-4637-b33d-dc791cca3e79 button');\n",
              "      quickchartButtonEl.style.display =\n",
              "        google.colab.kernel.accessAllowed ? 'block' : 'none';\n",
              "    })();\n",
              "  </script>\n",
              "</div>\n",
              "\n",
              "    </div>\n",
              "  </div>\n"
            ],
            "text/plain": [
              "                                                 Text  \\\n",
              "3   It was so easy to select tyre sizes and arrang...   \n",
              "4   service was excellent. Only slight downside wa...   \n",
              "15  Competitively priced and easy to use fitting c...   \n",
              "30  Easy to use site. Good choice of tyres at a go...   \n",
              "34  Staff with [REDACTED] went above and beyond to...   \n",
              "\n",
              "                     subtheme1                   subtheme2  \\\n",
              "3            location positive    value for money positive   \n",
              "4   length of fitting positive    ease of booking positive   \n",
              "15           location positive    value for money positive   \n",
              "30    value for money positive           location positive   \n",
              "34    ease of booking positive  length of fitting positive   \n",
              "\n",
              "                         subtheme3  word_count  \n",
              "3         ease of booking positive          16  \n",
              "4         ease of booking negative          23  \n",
              "15         garage service positive          14  \n",
              "30          mobile fitter positive          20  \n",
              "34  advisor/agent service positive          29  "
            ]
          },
          "execution_count": 76,
          "metadata": {},
          "output_type": "execute_result"
        }
      ],
      "source": [
        "df2=df.iloc[0:10]\n",
        "df2.head()"
      ]
    },
    {
      "cell_type": "code",
      "execution_count": 77,
      "metadata": {
        "colab": {
          "base_uri": "https://localhost:8080/"
        },
        "id": "oC752FiPracU",
        "outputId": "15da2a89-8f16-474a-d4f2-2ce7699c01a8"
      },
      "outputs": [
        {
          "name": "stdout",
          "output_type": "stream",
          "text": [
            "Given dataframe have shape after removing empty review: (10, 5)\n",
            "chain has done their work\n",
            " subthemses: 10-----10\n",
            "CSV file saved successfully: subtheme_Analysis_output.csv\n"
          ]
        }
      ],
      "source": [
        "import pandas as pd\n",
        "from typing import Union\n",
        "\n",
        "def process_reviews_and_save_csv(llmchain: Union[object, None], df: pd.DataFrame, output_file: str) -> None:\n",
        "    \"\"\"Processes reviews, generates predictions using llmchain if provided, and saves results to a CSV.\n",
        "    Args:\n",
        "        llmchain (object, optional): An llmchain(sequential) object for generating predictions.\n",
        "            If None, raise an error\n",
        "        df (pd.DataFrame): The DataFrame containing reviews and subthemes.\n",
        "            Columns expected: 'Text', 'subtheme1', 'subtheme2', 'subtheme3'.\n",
        "        output_file (str): The path to save the output CSV file.\n",
        "    Raises:\n",
        "        ValueError: If any row in the DataFrame has missing `review`\n",
        "        FileNotFoundError: If the output file cannot be created or opened for writing.\n",
        "    \"\"\"\n",
        "    #chain_llm\n",
        "    if llmchain:\n",
        "        predicted_subthemes = []\n",
        "        df=df.dropna(subset=['Text'])  #remove row which have nan review\n",
        "        print(f\"Given dataframe have shape after removing empty review: {df.shape}\")\n",
        "        for i, row in df.iterrows():\n",
        "            review = row[\"Text\"] # review\n",
        "            if len(review.split( ))>32000 :\n",
        "              raise ValueError(\"Context length is high so handling it like this or ignoring it..\") #for egmini for gpt4 42k and so on for other llm\n",
        "            try:\n",
        "              out= llmchain(review)  # Call llmchain\n",
        "              # print(out['aspects'])\n",
        "              predicted_subthemes.append(out['aspects_with_sentiment'])  # Extract subthemes with sentiment\n",
        "            except Exception as e:\n",
        "              print(e)\n",
        "        print(\"chain has done their work\")\n",
        "    else:\n",
        "      raise ValueError(\"LLMChain is not provided\")\n",
        "    actual_subthemes = [[row[\"subtheme1\"], row[\"subtheme2\"], row[\"subtheme3\"]] for i, row in df.iterrows()]\n",
        "    print(f\" subthemses: {len(actual_subthemes)}-----{len(predicted_subthemes)}\")\n",
        "    if len(predicted_subthemes) != len(actual_subthemes):\n",
        "        raise ValueError(\"Number of predicted subthemes does not match actual subthemes.\")\n",
        "\n",
        "    combined_data = list(zip(df[\"Text\"], actual_subthemes, predicted_subthemes))\n",
        "\n",
        "    try:\n",
        "        df_out = pd.DataFrame(combined_data, columns=[\"review\", \"actual_subthemes\", \"predicted_subthemes\"])\n",
        "        df_out.to_csv(output_file, index=False)\n",
        "        print(f\"CSV file saved successfully: {output_file}\")\n",
        "    except FileNotFoundError:\n",
        "        raise FileNotFoundError(f\"Error saving CSV file: {output_file}\")\n",
        "process_reviews_and_save_csv(subtheme_chain, df2, \"subtheme_Analysis_output.csv\")\n"
      ]
    },
    {
      "cell_type": "markdown",
      "metadata": {
        "id": "Dwa9W78vzi3F"
      },
      "source": [
        "**Pros**\n",
        "* **Few-shot learning:** Requires limited labeled data, making it suitable for domains with scarce annotated data.\n",
        "* **Scalability:** Adaptable to handle new aspects or domains with minimal retraining.\n",
        "* **Dynamic analysis:** Captures real-time sentiments by incorporating new reviews through fine-tuning or chain-based inference.\n",
        "* **LLM integration:** Leverages the power of large language models for comprehensive understanding and aspect identification(Transfomer,attention).\n",
        "* **Chainable workflows:** Allows flexible combination of tasks, like aspect extraction and sentiment analysis, in a single pipeline.\n",
        "\n",
        "**Cons:**\n",
        "* **Data quality:** Relies heavily on the quality and representativeness of the initial training data(few shot).\n",
        "* **Bias amplification:** Can inherit biases present in the training data and llm twards a domain.\n",
        "* **Computational cost:** Training and inference with LLMs can be computationally expensive. Depends on LLM owner\n",
        "\n",
        "**paper**\n",
        "   Open Aspect Target Sentiment Classification\n",
        "with Natural Language Prompts\n",
        "\n",
        "**improvment**\n",
        "* Better promt\n",
        "* better fine tune\n",
        "* analyzing result then decidng best fit\n",
        "* Use Any ABSA language model"
      ]
    },
    {
      "cell_type": "markdown",
      "metadata": {
        "id": "LHemtSNZJVgI"
      },
      "source": [
        "# Using NLP Dependency parsing for extracting  aspect\n",
        "\n",
        "\n",
        "*   we can use Spacy/any librray  for dependency parser tree\n",
        "*  Extract pairs of words based on specific dependency paths\n",
        "*  Follow some rules to extract aspects\n",
        "**Algorithm**\n",
        "     Data  >->-Aspect  Term Extraction(ATE)(Heirarchical Rule) >->-sentiment classifier >->- (aspect-sentiment)\n",
        "\n"
      ]
    },
    {
      "cell_type": "markdown",
      "metadata": {
        "id": "bkxf8V3Y-PVe"
      },
      "source": [
        "# ATE\n",
        "    POS Tagging dependency parsing >-Rule based aspect identification >- combine nearby aspects,remove subaspects(it comes under larger aspects) >-List(aspects)"
      ]
    },
    {
      "cell_type": "code",
      "execution_count": 78,
      "metadata": {
        "colab": {
          "base_uri": "https://localhost:8080/"
        },
        "id": "In0nbJmWANj1",
        "outputId": "b72a3a41-4ec9-4ba3-d3cf-9f5325aefb0a"
      },
      "outputs": [
        {
          "name": "stderr",
          "output_type": "stream",
          "text": [
            "[nltk_data] Downloading package averaged_perceptron_tagger to\n",
            "[nltk_data]     /root/nltk_data...\n",
            "[nltk_data]   Package averaged_perceptron_tagger is already up-to-\n",
            "[nltk_data]       date!\n"
          ]
        }
      ],
      "source": [
        "%%capture\n",
        "!pip install nltk\n",
        "!pip install averaged_perceptron_tagger\n",
        "!pip install stanfordcorenlp\n",
        "nltk.download('averaged_perceptron_tagger')"
      ]
    },
    {
      "cell_type": "code",
      "execution_count": 79,
      "metadata": {
        "colab": {
          "base_uri": "https://localhost:8080/"
        },
        "id": "G9g0ib_K9s0O",
        "outputId": "40251870-eb6f-4707-8449-c54444f6411e"
      },
      "outputs": [
        {
          "name": "stdout",
          "output_type": "stream",
          "text": [
            "It was so easy to select tyre sizes and arrange local fitting. The prices were competitive\n"
          ]
        },
        {
          "data": {
            "text/plain": [
              "[('It', 'PRP'),\n",
              " ('was', 'VBD'),\n",
              " ('so', 'RB'),\n",
              " ('easy', 'JJ'),\n",
              " ('to', 'TO'),\n",
              " ('select', 'VB'),\n",
              " ('tyre', 'NN'),\n",
              " ('sizes', 'NNS'),\n",
              " ('and', 'CC'),\n",
              " ('arrange', 'VB'),\n",
              " ('local', 'JJ'),\n",
              " ('fitting.', 'NN'),\n",
              " ('The', 'DT'),\n",
              " ('prices', 'NNS'),\n",
              " ('were', 'VBD'),\n",
              " ('competitive', 'JJ')]"
            ]
          },
          "execution_count": 79,
          "metadata": {},
          "output_type": "execute_result"
        }
      ],
      "source": [
        "#Pos Tagging\n",
        "# common POS= DT>-Determiner,JJ>-Adjective,NN >-Noun NNS >-Noun Plural CC>-coordinate conjunction,VBD >- Verb\n",
        "import nltk\n",
        "r=df2['Text'].iloc[0]\n",
        "print(r)\n",
        "pos_tag=nltk.pos_tag(r.split(' '))\n",
        "pos_tag"
      ]
    },
    {
      "cell_type": "code",
      "execution_count": 80,
      "metadata": {
        "id": "hOaUb0JDHZ6B"
      },
      "outputs": [],
      "source": [
        "%%capture\n",
        "# !wget https://nlp.stanford.edu/software/stanford-corenlp-4.5.6.zip\n",
        "# !unzip stanford-corenlp-4.5.6.zip"
      ]
    },
    {
      "cell_type": "code",
      "execution_count": 81,
      "metadata": {
        "colab": {
          "base_uri": "https://localhost:8080/"
        },
        "id": "VzzPXnog00AZ",
        "outputId": "0e2611b8-17ca-425d-a8c8-2a56209f9020"
      },
      "outputs": [
        {
          "data": {
            "text/plain": [
              "[('ROOT', 0, 4),\n",
              " ('nsubj', 4, 1),\n",
              " ('cop', 4, 2),\n",
              " ('advmod', 4, 3),\n",
              " ('mark', 6, 5),\n",
              " ('xcomp', 4, 6),\n",
              " ('compound', 8, 7),\n",
              " ('obj', 6, 8),\n",
              " ('cc', 10, 9),\n",
              " ('conj', 6, 10),\n",
              " ('amod', 12, 11),\n",
              " ('obj', 10, 12),\n",
              " ('punct', 4, 13),\n",
              " ('ROOT', 0, 4),\n",
              " ('det', 2, 1),\n",
              " ('nsubj', 4, 2),\n",
              " ('cop', 4, 3)]"
            ]
          },
          "execution_count": 81,
          "metadata": {},
          "output_type": "execute_result"
        }
      ],
      "source": [
        "#Dependency Parsing\n",
        "# helps to determine grammatical structure of a sentence.\n",
        "# it tells use differner relation between word that might exist\n",
        "from stanfordcorenlp import StanfordCoreNLP\n",
        "nlp = StanfordCoreNLP('stanford-corenlp-4.5.6')\n",
        "dependency_parsed = nlp.dependency_parse(r)\n",
        "dependency_parsed"
      ]
    },
    {
      "cell_type": "markdown",
      "metadata": {
        "id": "mgpq5__dY93u"
      },
      "source": [
        "**Rule for ATE**\n",
        "\n",
        "**Rule taken from Paper Aspect Based Sentiment Analysis\n",
        "of Unlabeled Reviews Using Linguistic Rule Based LDA**\n",
        "\n",
        "1.   Rule 1: If a word is a noun preceded by another noun, then concatenate it\n",
        "     and its preceding word. This combined word is an aspect.\n",
        "2.   Rule 2: If the word is a noun and is in a \"dobj\" relationship with a verb\n",
        "     in the sentence, that word is an aspect.\n",
        "3.   Rule 3: If the word is a noun and is in a \"nsubj\" relationship with an\n",
        "     adjective in the sentence, that word is an aspect.\n",
        "4.   Rule 4: If the word is a noun and is in a modifier relationship with a     copula verb in the sentence, then that word is an aspect.\n",
        "nouns can be represented by different names depending on nouns (NN-like balls), Plural Nouns (NNS-like balls), Proper Nouns (NNP like Harshit) and Plural Proper Nouns (NNPS like Indians).\n"
      ]
    },
    {
      "cell_type": "code",
      "execution_count": 86,
      "metadata": {
        "id": "DjMI2HBDKwcJ"
      },
      "outputs": [],
      "source": [
        "# code for above rule\n",
        "noun_dict = {'NNS':1 , 'NN' : 1 , 'NNP':1 , 'NNPS' : 1}\n",
        "adjective_list = {'JJ':1, 'JJR' :1, 'JIS' :1}\n",
        "verb_list = {'VB' :1, 'VBD' :1, 'VBZ' :1, 'VBN' :1, 'VBP' :1, 'VBP' : 1, 'VBZ' : 1}\n",
        "relation_considered = {'nsubj':1, 'obj':1, 'amod':1 , 'admod':1, 'cop' :1}\n",
        "modifier = ['amod','advmod','dobj']\n",
        "def rules_dependency_parsing_aspects (pos_tag, dependency_parsed) :\n",
        "  \"\"\"\n",
        "    Extracts aspects from a sentence based on dependency parsing and defined rules.\n",
        "    Args:\n",
        "        pos_tag (list): List of tuples containing word and POS tag.\n",
        "        dependency_parsed (list): List of tuples representing dependency relationships (head, relation, dependent).\n",
        "    Returns:\n",
        "        list: List of identified aspects.\n",
        "    \"\"\"\n",
        "  pos_tag_dict = {}\n",
        "  aspects=[]\n",
        "  dependency_parsed_pruned_dict = {}\n",
        "  copula_verb_dict = {}\n",
        "#print( 'pos_tag is :', pos_tag)\n",
        "#print( 'dependency_parser :' , dependency_parsed)\n",
        "  for i in range(len (pos_tag)) :\n",
        "    if (pos_tag[i][1] in noun_dict) :\n",
        "      pos_tag_dict[i+1] = 'noun'\n",
        "    if (pos_tag[i][1] in adjective_list) :\n",
        "      pos_tag_dict[i+1] = 'adj'\n",
        "    if (pos_tag[i][1] in verb_list):\n",
        "      pos_tag_dict[i+1] = 'verb'\n",
        "  for item in dependency_parsed:\n",
        "    if(item[0] in relation_considered):\n",
        "      if(item[1] in pos_tag_dict and item[2] in pos_tag_dict):\n",
        "        if item[1] in dependency_parsed_pruned_dict:\n",
        "          dependency_parsed_pruned_dict[item[1]] = dependency_parsed_pruned_dict[item[1]]+[item]\n",
        "        else:\n",
        "          dependency_parsed_pruned_dict[item[1]] = [item]\n",
        "        if item[2] in dependency_parsed_pruned_dict:\n",
        "          dependency_parsed_pruned_dict[item[2]] = dependency_parsed_pruned_dict[item[2]]+[item]\n",
        "        else:\n",
        "          dependency_parsed_pruned_dict[item[2]] = [item]\n",
        "        if(item[0]=='cop'):\n",
        "          if(pos_tag_dict[item[1]] == 'verb'):\n",
        "            copula_verb_dict[item[1]] = 'copula verb'\n",
        "          if(pos_tag_dict[item[2]] == 'verb'):\n",
        "            copula_verb_dict[item[2]] = 'copula verb'\n",
        "\n",
        "  for i in range(len(pos_tag)) :\n",
        "    if(i+1 in pos_tag_dict):\n",
        "      if(pos_tag_dict[i+1] == 'noun' and i+1 in dependency_parsed_pruned_dict):\n",
        "        for item in dependency_parsed_pruned_dict[i+1]:\n",
        "          if(item[0]=='obj' and (pos_tag_dict[item[1]]=='verb' or pos_tag_dict[item[2]]=='verb')):\n",
        "            aspects.append(pos_tag[i][0])\n",
        "          if(item[0]== 'nsubj' and (pos_tag_dict[item[1]]=='adj' or pos_tag_dict[item[2]]=='adj')):\n",
        "            aspects.append (pos_tag[i][0])\n",
        "          if(item[0] in modifier and (item[1] in copula_verb_dict or item[2] in copula_verb_dict)):\n",
        "            aspects.append(pos_tag[i][0])\n",
        "\n",
        "  for i in range (1, len(pos_tag)) :\n",
        "    if(pos_tag[i][1] in noun_dict):\n",
        "      if (pos_tag[i-1][1] in noun_dict) :\n",
        "        aspects.append(pos_tag[i-1][0]+' ' + pos_tag[i][0])\n",
        "      elif (pos_tag[i-1][1] in adjective_list):\n",
        "        aspects.append (pos_tag[i][0])\n",
        "  return aspects\n"
      ]
    },
    {
      "cell_type": "code",
      "execution_count": 87,
      "metadata": {
        "colab": {
          "base_uri": "https://localhost:8080/"
        },
        "id": "L_lWeC09SwLH",
        "outputId": "c4dc28e3-a758-4777-ba16-02e89ef7d78d"
      },
      "outputs": [
        {
          "data": {
            "text/plain": [
              "['sizes', 'fitting.', 'tyre sizes', 'fitting.']"
            ]
          },
          "execution_count": 87,
          "metadata": {},
          "output_type": "execute_result"
        }
      ],
      "source": [
        "rules_dependency_parsing_aspects(pos_tag,dependency_parsed)"
      ]
    },
    {
      "cell_type": "code",
      "execution_count": 88,
      "metadata": {
        "colab": {
          "base_uri": "https://localhost:8080/"
        },
        "id": "4NzwL6eaWjhr",
        "outputId": "5da3fb83-4649-4b28-fc77-97e735285927"
      },
      "outputs": [
        {
          "data": {
            "text/plain": [
              "subtheme1           location positive\n",
              "subtheme2    value for money positive\n",
              "subtheme3    ease of booking positive\n",
              "Name: 3, dtype: object"
            ]
          },
          "execution_count": 88,
          "metadata": {},
          "output_type": "execute_result"
        }
      ],
      "source": [
        "df2[['subtheme1','subtheme2','subtheme3']].iloc[0]"
      ]
    },
    {
      "cell_type": "markdown",
      "metadata": {
        "id": "xZS6D-rtW308"
      },
      "source": [
        "we can see if will use ATE on the basis of Rule they are not as good as we want\n",
        "i did not implemented every rule but  try to understand the algo(Papper-**Aspect Based Sentiment Analysis\n",
        "of Unlabeled Reviews Using\n",
        "Linguistic Rule Based LDA**) but it is good if we want control on algorithm"
      ]
    },
    {
      "cell_type": "markdown",
      "metadata": {
        "id": "VXfOsfKKdaP4"
      },
      "source": [
        "**Summary**\n",
        "* We can see LLm can outform easily Rule based method\n",
        "* i am more baised twards to choose LLM due to their Understanding of human language even larger context.\n",
        "* we have LLM framework like Langhain,LlamaIndex to build fast application using llm\n",
        "* Build complete pipeline of AI application using LLm framework\n",
        "* This is experimentation code  i am writting for production in vscode\n",
        "    * create env and build setup for app(install librray,env var,Data setup,file structure)\n",
        "    * Building pipeline (Data Loading,Preprocessing,Building model(agent/train),final Model,Test,evaluate)\n",
        "    * tracking application's model using logger,online tracker (for ml wandb ,mlflow for  llm langsmith etc)\n",
        "    * containerization for better development and maintainance"
      ]
    },
    {
      "cell_type": "code",
      "execution_count": null,
      "metadata": {
        "id": "ctUmSOEAW2p7"
      },
      "outputs": [],
      "source": []
    }
  ],
  "metadata": {
    "colab": {
      "provenance": []
    },
    "kernelspec": {
      "display_name": "Python 3",
      "name": "python3"
    },
    "language_info": {
      "name": "python",
      "version": "3.12.2"
    }
  },
  "nbformat": 4,
  "nbformat_minor": 0
}
